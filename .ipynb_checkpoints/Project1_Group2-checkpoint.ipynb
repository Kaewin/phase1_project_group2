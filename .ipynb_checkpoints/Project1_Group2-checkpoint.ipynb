{
 "cells": [
  {
   "cell_type": "markdown",
   "metadata": {},
   "source": [
    "# This is the jupyter notebook for group 2 project 1"
   ]
  },
  {
   "cell_type": "code",
   "execution_count": 1,
   "metadata": {},
   "outputs": [],
   "source": [
    "import numpy as np\n",
    "import pandas as pd\n",
    "import matplotlib.pyplot as plt"
   ]
  },
  {
   "cell_type": "code",
   "execution_count": 9,
   "metadata": {},
   "outputs": [
    {
     "name": "stderr",
     "output_type": "stream",
     "text": [
      "C:\\Users\\16047\\anaconda3\\envs\\learn-env\\lib\\site-packages\\IPython\\core\\interactiveshell.py:3145: DtypeWarning: Columns (6,7,28) have mixed types.Specify dtype option on import or set low_memory=False.\n",
      "  has_raised = await self.run_ast_nodes(code_ast.body, cell_name,\n"
     ]
    }
   ],
   "source": [
    "df_aviation = pd.read_csv('./Data/AviationData.csv', encoding ='latin-1')"
   ]
  },
  {
   "cell_type": "code",
   "execution_count": 11,
   "metadata": {},
   "outputs": [],
   "source": [
    "df_uscodes = pd.read_csv('./Data/AviationData.csv', encoding = 'latin-1')"
   ]
  },
  {
   "cell_type": "code",
   "execution_count": 12,
   "metadata": {},
   "outputs": [
    {
     "name": "stdout",
     "output_type": "stream",
     "text": [
      "<class 'pandas.core.frame.DataFrame'>\n",
      "RangeIndex: 88889 entries, 0 to 88888\n",
      "Data columns (total 31 columns):\n",
      " #   Column                  Non-Null Count  Dtype  \n",
      "---  ------                  --------------  -----  \n",
      " 0   Event.Id                88889 non-null  object \n",
      " 1   Investigation.Type      88889 non-null  object \n",
      " 2   Accident.Number         88889 non-null  object \n",
      " 3   Event.Date              88889 non-null  object \n",
      " 4   Location                88837 non-null  object \n",
      " 5   Country                 88663 non-null  object \n",
      " 6   Latitude                34382 non-null  object \n",
      " 7   Longitude               34373 non-null  object \n",
      " 8   Airport.Code            50249 non-null  object \n",
      " 9   Airport.Name            52790 non-null  object \n",
      " 10  Injury.Severity         87889 non-null  object \n",
      " 11  Aircraft.damage         85695 non-null  object \n",
      " 12  Aircraft.Category       32287 non-null  object \n",
      " 13  Registration.Number     87572 non-null  object \n",
      " 14  Make                    88826 non-null  object \n",
      " 15  Model                   88797 non-null  object \n",
      " 16  Amateur.Built           88787 non-null  object \n",
      " 17  Number.of.Engines       82805 non-null  float64\n",
      " 18  Engine.Type             81812 non-null  object \n",
      " 19  FAR.Description         32023 non-null  object \n",
      " 20  Schedule                12582 non-null  object \n",
      " 21  Purpose.of.flight       82697 non-null  object \n",
      " 22  Air.carrier             16648 non-null  object \n",
      " 23  Total.Fatal.Injuries    77488 non-null  float64\n",
      " 24  Total.Serious.Injuries  76379 non-null  float64\n",
      " 25  Total.Minor.Injuries    76956 non-null  float64\n",
      " 26  Total.Uninjured         82977 non-null  float64\n",
      " 27  Weather.Condition       84397 non-null  object \n",
      " 28  Broad.phase.of.flight   61724 non-null  object \n",
      " 29  Report.Status           82508 non-null  object \n",
      " 30  Publication.Date        75118 non-null  object \n",
      "dtypes: float64(5), object(26)\n",
      "memory usage: 21.0+ MB\n"
     ]
    }
   ],
   "source": [
    "df_aviation.info()"
   ]
  },
  {
   "cell_type": "code",
   "execution_count": 13,
   "metadata": {},
   "outputs": [
    {
     "data": {
      "text/html": [
       "<div>\n",
       "<style scoped>\n",
       "    .dataframe tbody tr th:only-of-type {\n",
       "        vertical-align: middle;\n",
       "    }\n",
       "\n",
       "    .dataframe tbody tr th {\n",
       "        vertical-align: top;\n",
       "    }\n",
       "\n",
       "    .dataframe thead th {\n",
       "        text-align: right;\n",
       "    }\n",
       "</style>\n",
       "<table border=\"1\" class=\"dataframe\">\n",
       "  <thead>\n",
       "    <tr style=\"text-align: right;\">\n",
       "      <th></th>\n",
       "      <th>Number.of.Engines</th>\n",
       "      <th>Total.Fatal.Injuries</th>\n",
       "      <th>Total.Serious.Injuries</th>\n",
       "      <th>Total.Minor.Injuries</th>\n",
       "      <th>Total.Uninjured</th>\n",
       "    </tr>\n",
       "  </thead>\n",
       "  <tbody>\n",
       "    <tr>\n",
       "      <th>count</th>\n",
       "      <td>82805.000000</td>\n",
       "      <td>77488.000000</td>\n",
       "      <td>76379.000000</td>\n",
       "      <td>76956.000000</td>\n",
       "      <td>82977.000000</td>\n",
       "    </tr>\n",
       "    <tr>\n",
       "      <th>mean</th>\n",
       "      <td>1.146585</td>\n",
       "      <td>0.647855</td>\n",
       "      <td>0.279881</td>\n",
       "      <td>0.357061</td>\n",
       "      <td>5.325440</td>\n",
       "    </tr>\n",
       "    <tr>\n",
       "      <th>std</th>\n",
       "      <td>0.446510</td>\n",
       "      <td>5.485960</td>\n",
       "      <td>1.544084</td>\n",
       "      <td>2.235625</td>\n",
       "      <td>27.913634</td>\n",
       "    </tr>\n",
       "    <tr>\n",
       "      <th>min</th>\n",
       "      <td>0.000000</td>\n",
       "      <td>0.000000</td>\n",
       "      <td>0.000000</td>\n",
       "      <td>0.000000</td>\n",
       "      <td>0.000000</td>\n",
       "    </tr>\n",
       "    <tr>\n",
       "      <th>25%</th>\n",
       "      <td>1.000000</td>\n",
       "      <td>0.000000</td>\n",
       "      <td>0.000000</td>\n",
       "      <td>0.000000</td>\n",
       "      <td>0.000000</td>\n",
       "    </tr>\n",
       "    <tr>\n",
       "      <th>50%</th>\n",
       "      <td>1.000000</td>\n",
       "      <td>0.000000</td>\n",
       "      <td>0.000000</td>\n",
       "      <td>0.000000</td>\n",
       "      <td>1.000000</td>\n",
       "    </tr>\n",
       "    <tr>\n",
       "      <th>75%</th>\n",
       "      <td>1.000000</td>\n",
       "      <td>0.000000</td>\n",
       "      <td>0.000000</td>\n",
       "      <td>0.000000</td>\n",
       "      <td>2.000000</td>\n",
       "    </tr>\n",
       "    <tr>\n",
       "      <th>max</th>\n",
       "      <td>8.000000</td>\n",
       "      <td>349.000000</td>\n",
       "      <td>161.000000</td>\n",
       "      <td>380.000000</td>\n",
       "      <td>699.000000</td>\n",
       "    </tr>\n",
       "  </tbody>\n",
       "</table>\n",
       "</div>"
      ],
      "text/plain": [
       "       Number.of.Engines  Total.Fatal.Injuries  Total.Serious.Injuries  \\\n",
       "count       82805.000000          77488.000000            76379.000000   \n",
       "mean            1.146585              0.647855                0.279881   \n",
       "std             0.446510              5.485960                1.544084   \n",
       "min             0.000000              0.000000                0.000000   \n",
       "25%             1.000000              0.000000                0.000000   \n",
       "50%             1.000000              0.000000                0.000000   \n",
       "75%             1.000000              0.000000                0.000000   \n",
       "max             8.000000            349.000000              161.000000   \n",
       "\n",
       "       Total.Minor.Injuries  Total.Uninjured  \n",
       "count          76956.000000     82977.000000  \n",
       "mean               0.357061         5.325440  \n",
       "std                2.235625        27.913634  \n",
       "min                0.000000         0.000000  \n",
       "25%                0.000000         0.000000  \n",
       "50%                0.000000         1.000000  \n",
       "75%                0.000000         2.000000  \n",
       "max              380.000000       699.000000  "
      ]
     },
     "execution_count": 13,
     "metadata": {},
     "output_type": "execute_result"
    }
   ],
   "source": [
    "df_aviation.describe()"
   ]
  },
  {
   "cell_type": "code",
   "execution_count": 16,
   "metadata": {},
   "outputs": [
    {
     "data": {
      "text/plain": [
       "0        False\n",
       "1        False\n",
       "2         True\n",
       "3        False\n",
       "4        False\n",
       "         ...  \n",
       "88884    False\n",
       "88885    False\n",
       "88886    False\n",
       "88887    False\n",
       "88888    False\n",
       "Name: Total.Serious.Injuries, Length: 88889, dtype: bool"
      ]
     },
     "execution_count": 16,
     "metadata": {},
     "output_type": "execute_result"
    }
   ],
   "source": [
    "df_aviation['Total.Serious.Injuries'].isna()\n"
   ]
  },
  {
   "cell_type": "code",
   "execution_count": 17,
   "metadata": {},
   "outputs": [
    {
     "data": {
      "text/plain": [
       "12510"
      ]
     },
     "execution_count": 17,
     "metadata": {},
     "output_type": "execute_result"
    }
   ],
   "source": [
    "df_aviation['Total.Serious.Injuries'].isnull().sum()"
   ]
  },
  {
   "cell_type": "code",
   "execution_count": 23,
   "metadata": {},
   "outputs": [
    {
     "data": {
      "text/plain": [
       "array([  0.,  nan,   2.,   1.,   6.,   4.,   5.,  10.,   3.,   8.,   9.,\n",
       "         7.,  15.,  17.,  28.,  26.,  47.,  14.,  81.,  13., 106.,  60.,\n",
       "        16.,  21.,  50.,  44.,  18.,  12.,  45.,  39.,  43.,  11.,  25.,\n",
       "        59.,  23.,  55.,  63.,  88.,  41.,  34.,  53.,  33.,  67.,  35.,\n",
       "        20., 137.,  19.,  27., 125., 161.,  22.])"
      ]
     },
     "execution_count": 23,
     "metadata": {},
     "output_type": "execute_result"
    }
   ],
   "source": [
    "df_aviation['Total.Serious.Injuries'].unique()"
   ]
  },
  {
   "cell_type": "code",
   "execution_count": 26,
   "metadata": {},
   "outputs": [
    {
     "data": {
      "text/plain": [
       "0        0.0\n",
       "1        0.0\n",
       "2        0.0\n",
       "3        0.0\n",
       "4        2.0\n",
       "        ... \n",
       "88884    1.0\n",
       "88885    0.0\n",
       "88886    0.0\n",
       "88887    0.0\n",
       "88888    1.0\n",
       "Name: Total.Serious.Injuries, Length: 88889, dtype: float64"
      ]
     },
     "execution_count": 26,
     "metadata": {},
     "output_type": "execute_result"
    }
   ],
   "source": [
    "df_aviation['Total.Serious.Injuries'].fillna(df_aviation['Total.Serious.Injuries'].median())"
   ]
  },
  {
   "cell_type": "code",
   "execution_count": 27,
   "metadata": {},
   "outputs": [
    {
     "data": {
      "text/plain": [
       "0        2.0\n",
       "1        4.0\n",
       "2        3.0\n",
       "3        2.0\n",
       "4        1.0\n",
       "        ... \n",
       "88884    0.0\n",
       "88885    0.0\n",
       "88886    0.0\n",
       "88887    0.0\n",
       "88888    0.0\n",
       "Name: Total.Fatal.Injuries, Length: 88889, dtype: float64"
      ]
     },
     "execution_count": 27,
     "metadata": {},
     "output_type": "execute_result"
    }
   ],
   "source": [
    "df_aviation['Total.Fatal.Injuries'].fillna(df_aviation['Total.Fatal.Injuries'].median())"
   ]
  },
  {
   "cell_type": "code",
   "execution_count": 37,
   "metadata": {},
   "outputs": [],
   "source": [
    "df_aviation['Total.Minor.Injuries'].fillna(df_aviation['Total.Minor.Injuries'].median())"
   ]
  },
  {
   "cell_type": "code",
   "execution_count": 39,
   "metadata": {},
   "outputs": [
    {
     "data": {
      "text/plain": [
       "0.0"
      ]
     },
     "execution_count": 39,
     "metadata": {},
     "output_type": "execute_result"
    }
   ],
   "source": [
    "df_aviation['Total.Minor.Injuries'].median()"
   ]
  },
  {
   "cell_type": "code",
   "execution_count": 31,
   "metadata": {},
   "outputs": [
    {
     "name": "stdout",
     "output_type": "stream",
     "text": [
      "Index(['Non-Fatal', 'Fatal(1)', 'Fatal', 'Fatal(2)', 'Incident', 'Fatal(3)',\n",
      "       'Fatal(4)', 'Fatal(5)', 'Minor', 'Serious',\n",
      "       ...\n",
      "       'Fatal(55)', 'Fatal(54)', 'Fatal(228)', 'Fatal(35)', 'Fatal(169)',\n",
      "       'Fatal(26)', 'Fatal(125)', 'Fatal(78)', 'Fatal(229)', 'Fatal(111)'],\n",
      "      dtype='object', length=109)\n"
     ]
    }
   ],
   "source": [
    "print(df_aviation['Injury.Severity'].value_counts().index)"
   ]
  },
  {
   "cell_type": "code",
   "execution_count": 34,
   "metadata": {},
   "outputs": [
    {
     "name": "stdout",
     "output_type": "stream",
     "text": [
      "<class 'pandas.core.frame.DataFrame'>\n",
      "RangeIndex: 88889 entries, 0 to 88888\n",
      "Data columns (total 31 columns):\n",
      " #   Column                  Non-Null Count  Dtype  \n",
      "---  ------                  --------------  -----  \n",
      " 0   Event.Id                88889 non-null  object \n",
      " 1   Investigation.Type      88889 non-null  object \n",
      " 2   Accident.Number         88889 non-null  object \n",
      " 3   Event.Date              88889 non-null  object \n",
      " 4   Location                88837 non-null  object \n",
      " 5   Country                 88663 non-null  object \n",
      " 6   Latitude                34382 non-null  object \n",
      " 7   Longitude               34373 non-null  object \n",
      " 8   Airport.Code            50249 non-null  object \n",
      " 9   Airport.Name            52790 non-null  object \n",
      " 10  Injury.Severity         87889 non-null  object \n",
      " 11  Aircraft.damage         85695 non-null  object \n",
      " 12  Aircraft.Category       32287 non-null  object \n",
      " 13  Registration.Number     87572 non-null  object \n",
      " 14  Make                    88826 non-null  object \n",
      " 15  Model                   88797 non-null  object \n",
      " 16  Amateur.Built           88787 non-null  object \n",
      " 17  Number.of.Engines       82805 non-null  float64\n",
      " 18  Engine.Type             81812 non-null  object \n",
      " 19  FAR.Description         32023 non-null  object \n",
      " 20  Schedule                12582 non-null  object \n",
      " 21  Purpose.of.flight       82697 non-null  object \n",
      " 22  Air.carrier             16648 non-null  object \n",
      " 23  Total.Fatal.Injuries    77488 non-null  float64\n",
      " 24  Total.Serious.Injuries  76379 non-null  float64\n",
      " 25  Total.Minor.Injuries    76956 non-null  float64\n",
      " 26  Total.Uninjured         82977 non-null  float64\n",
      " 27  Weather.Condition       84397 non-null  object \n",
      " 28  Broad.phase.of.flight   61724 non-null  object \n",
      " 29  Report.Status           82508 non-null  object \n",
      " 30  Publication.Date        75118 non-null  object \n",
      "dtypes: float64(5), object(26)\n",
      "memory usage: 21.0+ MB\n"
     ]
    }
   ],
   "source": [
    "df_aviation.info()"
   ]
  },
  {
   "cell_type": "code",
   "execution_count": 36,
   "metadata": {},
   "outputs": [
    {
     "data": {
      "text/plain": [
       "0         Fatal(2)\n",
       "1         Fatal(4)\n",
       "2         Fatal(3)\n",
       "3         Fatal(2)\n",
       "4         Fatal(1)\n",
       "           ...    \n",
       "88884        Minor\n",
       "88885          NaN\n",
       "88886    Non-Fatal\n",
       "88887          NaN\n",
       "88888        Minor\n",
       "Name: Injury.Severity, Length: 88889, dtype: object"
      ]
     },
     "execution_count": 36,
     "metadata": {},
     "output_type": "execute_result"
    }
   ],
   "source": [
    "df_aviation['Injury.Severity']"
   ]
  },
  {
   "cell_type": "code",
   "execution_count": 43,
   "metadata": {},
   "outputs": [
    {
     "data": {
      "text/plain": [
       "array(['Destroyed', 'Substantial', 'Minor', nan, 'Unknown'], dtype=object)"
      ]
     },
     "execution_count": 43,
     "metadata": {},
     "output_type": "execute_result"
    }
   ],
   "source": [
    "df_aviation['Aircraft.damage'].unique()"
   ]
  },
  {
   "cell_type": "code",
   "execution_count": 58,
   "metadata": {},
   "outputs": [
    {
     "ename": "KeyError",
     "evalue": "'Aircraft.damage'",
     "output_type": "error",
     "traceback": [
      "\u001b[1;31m---------------------------------------------------------------------------\u001b[0m",
      "\u001b[1;31mKeyError\u001b[0m                                  Traceback (most recent call last)",
      "\u001b[1;32m~\\anaconda3\\envs\\learn-env\\lib\\site-packages\\pandas\\core\\indexes\\base.py\u001b[0m in \u001b[0;36mget_loc\u001b[1;34m(self, key, method, tolerance)\u001b[0m\n\u001b[0;32m   2894\u001b[0m             \u001b[1;32mtry\u001b[0m\u001b[1;33m:\u001b[0m\u001b[1;33m\u001b[0m\u001b[1;33m\u001b[0m\u001b[0m\n\u001b[1;32m-> 2895\u001b[1;33m                 \u001b[1;32mreturn\u001b[0m \u001b[0mself\u001b[0m\u001b[1;33m.\u001b[0m\u001b[0m_engine\u001b[0m\u001b[1;33m.\u001b[0m\u001b[0mget_loc\u001b[0m\u001b[1;33m(\u001b[0m\u001b[0mcasted_key\u001b[0m\u001b[1;33m)\u001b[0m\u001b[1;33m\u001b[0m\u001b[1;33m\u001b[0m\u001b[0m\n\u001b[0m\u001b[0;32m   2896\u001b[0m             \u001b[1;32mexcept\u001b[0m \u001b[0mKeyError\u001b[0m \u001b[1;32mas\u001b[0m \u001b[0merr\u001b[0m\u001b[1;33m:\u001b[0m\u001b[1;33m\u001b[0m\u001b[1;33m\u001b[0m\u001b[0m\n",
      "\u001b[1;32mpandas\\_libs\\index.pyx\u001b[0m in \u001b[0;36mpandas._libs.index.IndexEngine.get_loc\u001b[1;34m()\u001b[0m\n",
      "\u001b[1;32mpandas\\_libs\\index.pyx\u001b[0m in \u001b[0;36mpandas._libs.index.IndexEngine.get_loc\u001b[1;34m()\u001b[0m\n",
      "\u001b[1;32mpandas\\_libs\\hashtable_class_helper.pxi\u001b[0m in \u001b[0;36mpandas._libs.hashtable.PyObjectHashTable.get_item\u001b[1;34m()\u001b[0m\n",
      "\u001b[1;32mpandas\\_libs\\hashtable_class_helper.pxi\u001b[0m in \u001b[0;36mpandas._libs.hashtable.PyObjectHashTable.get_item\u001b[1;34m()\u001b[0m\n",
      "\u001b[1;31mKeyError\u001b[0m: 'Aircraft.damage'",
      "\nThe above exception was the direct cause of the following exception:\n",
      "\u001b[1;31mKeyError\u001b[0m                                  Traceback (most recent call last)",
      "\u001b[1;32m<ipython-input-58-1c621e038d51>\u001b[0m in \u001b[0;36m<module>\u001b[1;34m\u001b[0m\n\u001b[1;32m----> 1\u001b[1;33m \u001b[0mdf_aviation\u001b[0m\u001b[1;33m[\u001b[0m\u001b[1;34m'Aircraft.damage'\u001b[0m\u001b[1;33m]\u001b[0m\u001b[1;33m.\u001b[0m\u001b[0mfillna\u001b[0m\u001b[1;33m(\u001b[0m\u001b[0mdf_aviation\u001b[0m\u001b[1;33m[\u001b[0m\u001b[1;34m'Aircraft.damage'\u001b[0m\u001b[1;33m]\u001b[0m\u001b[1;33m[\u001b[0m\u001b[1;34m'Unknown'\u001b[0m\u001b[1;33m]\u001b[0m\u001b[1;33m)\u001b[0m\u001b[1;33m\u001b[0m\u001b[1;33m\u001b[0m\u001b[0m\n\u001b[0m",
      "\u001b[1;32m~\\anaconda3\\envs\\learn-env\\lib\\site-packages\\pandas\\core\\frame.py\u001b[0m in \u001b[0;36m__getitem__\u001b[1;34m(self, key)\u001b[0m\n\u001b[0;32m   2900\u001b[0m             \u001b[1;32mif\u001b[0m \u001b[0mself\u001b[0m\u001b[1;33m.\u001b[0m\u001b[0mcolumns\u001b[0m\u001b[1;33m.\u001b[0m\u001b[0mnlevels\u001b[0m \u001b[1;33m>\u001b[0m \u001b[1;36m1\u001b[0m\u001b[1;33m:\u001b[0m\u001b[1;33m\u001b[0m\u001b[1;33m\u001b[0m\u001b[0m\n\u001b[0;32m   2901\u001b[0m                 \u001b[1;32mreturn\u001b[0m \u001b[0mself\u001b[0m\u001b[1;33m.\u001b[0m\u001b[0m_getitem_multilevel\u001b[0m\u001b[1;33m(\u001b[0m\u001b[0mkey\u001b[0m\u001b[1;33m)\u001b[0m\u001b[1;33m\u001b[0m\u001b[1;33m\u001b[0m\u001b[0m\n\u001b[1;32m-> 2902\u001b[1;33m             \u001b[0mindexer\u001b[0m \u001b[1;33m=\u001b[0m \u001b[0mself\u001b[0m\u001b[1;33m.\u001b[0m\u001b[0mcolumns\u001b[0m\u001b[1;33m.\u001b[0m\u001b[0mget_loc\u001b[0m\u001b[1;33m(\u001b[0m\u001b[0mkey\u001b[0m\u001b[1;33m)\u001b[0m\u001b[1;33m\u001b[0m\u001b[1;33m\u001b[0m\u001b[0m\n\u001b[0m\u001b[0;32m   2903\u001b[0m             \u001b[1;32mif\u001b[0m \u001b[0mis_integer\u001b[0m\u001b[1;33m(\u001b[0m\u001b[0mindexer\u001b[0m\u001b[1;33m)\u001b[0m\u001b[1;33m:\u001b[0m\u001b[1;33m\u001b[0m\u001b[1;33m\u001b[0m\u001b[0m\n\u001b[0;32m   2904\u001b[0m                 \u001b[0mindexer\u001b[0m \u001b[1;33m=\u001b[0m \u001b[1;33m[\u001b[0m\u001b[0mindexer\u001b[0m\u001b[1;33m]\u001b[0m\u001b[1;33m\u001b[0m\u001b[1;33m\u001b[0m\u001b[0m\n",
      "\u001b[1;32m~\\anaconda3\\envs\\learn-env\\lib\\site-packages\\pandas\\core\\indexes\\base.py\u001b[0m in \u001b[0;36mget_loc\u001b[1;34m(self, key, method, tolerance)\u001b[0m\n\u001b[0;32m   2895\u001b[0m                 \u001b[1;32mreturn\u001b[0m \u001b[0mself\u001b[0m\u001b[1;33m.\u001b[0m\u001b[0m_engine\u001b[0m\u001b[1;33m.\u001b[0m\u001b[0mget_loc\u001b[0m\u001b[1;33m(\u001b[0m\u001b[0mcasted_key\u001b[0m\u001b[1;33m)\u001b[0m\u001b[1;33m\u001b[0m\u001b[1;33m\u001b[0m\u001b[0m\n\u001b[0;32m   2896\u001b[0m             \u001b[1;32mexcept\u001b[0m \u001b[0mKeyError\u001b[0m \u001b[1;32mas\u001b[0m \u001b[0merr\u001b[0m\u001b[1;33m:\u001b[0m\u001b[1;33m\u001b[0m\u001b[1;33m\u001b[0m\u001b[0m\n\u001b[1;32m-> 2897\u001b[1;33m                 \u001b[1;32mraise\u001b[0m \u001b[0mKeyError\u001b[0m\u001b[1;33m(\u001b[0m\u001b[0mkey\u001b[0m\u001b[1;33m)\u001b[0m \u001b[1;32mfrom\u001b[0m \u001b[0merr\u001b[0m\u001b[1;33m\u001b[0m\u001b[1;33m\u001b[0m\u001b[0m\n\u001b[0m\u001b[0;32m   2898\u001b[0m \u001b[1;33m\u001b[0m\u001b[0m\n\u001b[0;32m   2899\u001b[0m         \u001b[1;32mif\u001b[0m \u001b[0mtolerance\u001b[0m \u001b[1;32mis\u001b[0m \u001b[1;32mnot\u001b[0m \u001b[1;32mNone\u001b[0m\u001b[1;33m:\u001b[0m\u001b[1;33m\u001b[0m\u001b[1;33m\u001b[0m\u001b[0m\n",
      "\u001b[1;31mKeyError\u001b[0m: 'Aircraft.damage'"
     ]
    }
   ],
   "source": [
    "df_aviation['Aircraft.damage'].fillna(df_aviation['Aircraft.damage']['Unknown'])"
   ]
  },
  {
   "cell_type": "code",
   "execution_count": 60,
   "metadata": {},
   "outputs": [
    {
     "ename": "KeyError",
     "evalue": "'aircraft.damage'",
     "output_type": "error",
     "traceback": [
      "\u001b[1;31m---------------------------------------------------------------------------\u001b[0m",
      "\u001b[1;31mKeyError\u001b[0m                                  Traceback (most recent call last)",
      "\u001b[1;32m~\\anaconda3\\envs\\learn-env\\lib\\site-packages\\pandas\\core\\indexes\\base.py\u001b[0m in \u001b[0;36mget_loc\u001b[1;34m(self, key, method, tolerance)\u001b[0m\n\u001b[0;32m   2894\u001b[0m             \u001b[1;32mtry\u001b[0m\u001b[1;33m:\u001b[0m\u001b[1;33m\u001b[0m\u001b[1;33m\u001b[0m\u001b[0m\n\u001b[1;32m-> 2895\u001b[1;33m                 \u001b[1;32mreturn\u001b[0m \u001b[0mself\u001b[0m\u001b[1;33m.\u001b[0m\u001b[0m_engine\u001b[0m\u001b[1;33m.\u001b[0m\u001b[0mget_loc\u001b[0m\u001b[1;33m(\u001b[0m\u001b[0mcasted_key\u001b[0m\u001b[1;33m)\u001b[0m\u001b[1;33m\u001b[0m\u001b[1;33m\u001b[0m\u001b[0m\n\u001b[0m\u001b[0;32m   2896\u001b[0m             \u001b[1;32mexcept\u001b[0m \u001b[0mKeyError\u001b[0m \u001b[1;32mas\u001b[0m \u001b[0merr\u001b[0m\u001b[1;33m:\u001b[0m\u001b[1;33m\u001b[0m\u001b[1;33m\u001b[0m\u001b[0m\n",
      "\u001b[1;32mpandas\\_libs\\index.pyx\u001b[0m in \u001b[0;36mpandas._libs.index.IndexEngine.get_loc\u001b[1;34m()\u001b[0m\n",
      "\u001b[1;32mpandas\\_libs\\index.pyx\u001b[0m in \u001b[0;36mpandas._libs.index.IndexEngine.get_loc\u001b[1;34m()\u001b[0m\n",
      "\u001b[1;32mpandas\\_libs\\hashtable_class_helper.pxi\u001b[0m in \u001b[0;36mpandas._libs.hashtable.PyObjectHashTable.get_item\u001b[1;34m()\u001b[0m\n",
      "\u001b[1;32mpandas\\_libs\\hashtable_class_helper.pxi\u001b[0m in \u001b[0;36mpandas._libs.hashtable.PyObjectHashTable.get_item\u001b[1;34m()\u001b[0m\n",
      "\u001b[1;31mKeyError\u001b[0m: 'aircraft.damage'",
      "\nThe above exception was the direct cause of the following exception:\n",
      "\u001b[1;31mKeyError\u001b[0m                                  Traceback (most recent call last)",
      "\u001b[1;32m<ipython-input-60-cdcdc8aa349e>\u001b[0m in \u001b[0;36m<module>\u001b[1;34m\u001b[0m\n\u001b[1;32m----> 1\u001b[1;33m \u001b[0mdf_aviation\u001b[0m\u001b[1;33m[\u001b[0m\u001b[1;34m'aircraft.damage'\u001b[0m\u001b[1;33m]\u001b[0m\u001b[1;33m.\u001b[0m\u001b[0munique\u001b[0m\u001b[1;33m(\u001b[0m\u001b[1;33m)\u001b[0m\u001b[1;33m\u001b[0m\u001b[1;33m\u001b[0m\u001b[0m\n\u001b[0m",
      "\u001b[1;32m~\\anaconda3\\envs\\learn-env\\lib\\site-packages\\pandas\\core\\frame.py\u001b[0m in \u001b[0;36m__getitem__\u001b[1;34m(self, key)\u001b[0m\n\u001b[0;32m   2900\u001b[0m             \u001b[1;32mif\u001b[0m \u001b[0mself\u001b[0m\u001b[1;33m.\u001b[0m\u001b[0mcolumns\u001b[0m\u001b[1;33m.\u001b[0m\u001b[0mnlevels\u001b[0m \u001b[1;33m>\u001b[0m \u001b[1;36m1\u001b[0m\u001b[1;33m:\u001b[0m\u001b[1;33m\u001b[0m\u001b[1;33m\u001b[0m\u001b[0m\n\u001b[0;32m   2901\u001b[0m                 \u001b[1;32mreturn\u001b[0m \u001b[0mself\u001b[0m\u001b[1;33m.\u001b[0m\u001b[0m_getitem_multilevel\u001b[0m\u001b[1;33m(\u001b[0m\u001b[0mkey\u001b[0m\u001b[1;33m)\u001b[0m\u001b[1;33m\u001b[0m\u001b[1;33m\u001b[0m\u001b[0m\n\u001b[1;32m-> 2902\u001b[1;33m             \u001b[0mindexer\u001b[0m \u001b[1;33m=\u001b[0m \u001b[0mself\u001b[0m\u001b[1;33m.\u001b[0m\u001b[0mcolumns\u001b[0m\u001b[1;33m.\u001b[0m\u001b[0mget_loc\u001b[0m\u001b[1;33m(\u001b[0m\u001b[0mkey\u001b[0m\u001b[1;33m)\u001b[0m\u001b[1;33m\u001b[0m\u001b[1;33m\u001b[0m\u001b[0m\n\u001b[0m\u001b[0;32m   2903\u001b[0m             \u001b[1;32mif\u001b[0m \u001b[0mis_integer\u001b[0m\u001b[1;33m(\u001b[0m\u001b[0mindexer\u001b[0m\u001b[1;33m)\u001b[0m\u001b[1;33m:\u001b[0m\u001b[1;33m\u001b[0m\u001b[1;33m\u001b[0m\u001b[0m\n\u001b[0;32m   2904\u001b[0m                 \u001b[0mindexer\u001b[0m \u001b[1;33m=\u001b[0m \u001b[1;33m[\u001b[0m\u001b[0mindexer\u001b[0m\u001b[1;33m]\u001b[0m\u001b[1;33m\u001b[0m\u001b[1;33m\u001b[0m\u001b[0m\n",
      "\u001b[1;32m~\\anaconda3\\envs\\learn-env\\lib\\site-packages\\pandas\\core\\indexes\\base.py\u001b[0m in \u001b[0;36mget_loc\u001b[1;34m(self, key, method, tolerance)\u001b[0m\n\u001b[0;32m   2895\u001b[0m                 \u001b[1;32mreturn\u001b[0m \u001b[0mself\u001b[0m\u001b[1;33m.\u001b[0m\u001b[0m_engine\u001b[0m\u001b[1;33m.\u001b[0m\u001b[0mget_loc\u001b[0m\u001b[1;33m(\u001b[0m\u001b[0mcasted_key\u001b[0m\u001b[1;33m)\u001b[0m\u001b[1;33m\u001b[0m\u001b[1;33m\u001b[0m\u001b[0m\n\u001b[0;32m   2896\u001b[0m             \u001b[1;32mexcept\u001b[0m \u001b[0mKeyError\u001b[0m \u001b[1;32mas\u001b[0m \u001b[0merr\u001b[0m\u001b[1;33m:\u001b[0m\u001b[1;33m\u001b[0m\u001b[1;33m\u001b[0m\u001b[0m\n\u001b[1;32m-> 2897\u001b[1;33m                 \u001b[1;32mraise\u001b[0m \u001b[0mKeyError\u001b[0m\u001b[1;33m(\u001b[0m\u001b[0mkey\u001b[0m\u001b[1;33m)\u001b[0m \u001b[1;32mfrom\u001b[0m \u001b[0merr\u001b[0m\u001b[1;33m\u001b[0m\u001b[1;33m\u001b[0m\u001b[0m\n\u001b[0m\u001b[0;32m   2898\u001b[0m \u001b[1;33m\u001b[0m\u001b[0m\n\u001b[0;32m   2899\u001b[0m         \u001b[1;32mif\u001b[0m \u001b[0mtolerance\u001b[0m \u001b[1;32mis\u001b[0m \u001b[1;32mnot\u001b[0m \u001b[1;32mNone\u001b[0m\u001b[1;33m:\u001b[0m\u001b[1;33m\u001b[0m\u001b[1;33m\u001b[0m\u001b[0m\n",
      "\u001b[1;31mKeyError\u001b[0m: 'aircraft.damage'"
     ]
    }
   ],
   "source": [
    "df_aviation['aircraft.damage'].unique()"
   ]
  },
  {
   "cell_type": "code",
   "execution_count": 59,
   "metadata": {},
   "outputs": [
    {
     "name": "stdout",
     "output_type": "stream",
     "text": [
      "<class 'pandas.core.frame.DataFrame'>\n",
      "RangeIndex: 88889 entries, 0 to 88888\n",
      "Data columns (total 31 columns):\n",
      " #   Column                  Non-Null Count  Dtype         \n",
      "---  ------                  --------------  -----         \n",
      " 0   event_id                88889 non-null  object        \n",
      " 1   investigation_type      88889 non-null  object        \n",
      " 2   accident_number         88889 non-null  object        \n",
      " 3   event_date              88889 non-null  datetime64[ns]\n",
      " 4   location                88837 non-null  object        \n",
      " 5   country                 88663 non-null  object        \n",
      " 6   latitude                34382 non-null  object        \n",
      " 7   longitude               34373 non-null  object        \n",
      " 8   airport_code            50249 non-null  object        \n",
      " 9   airport_name            52790 non-null  object        \n",
      " 10  injury_severity         87889 non-null  object        \n",
      " 11  aircraft_damage         85695 non-null  object        \n",
      " 12  aircraft_category       32287 non-null  object        \n",
      " 13  registration_number     87572 non-null  object        \n",
      " 14  make                    88826 non-null  object        \n",
      " 15  model                   88797 non-null  object        \n",
      " 16  amateur_built           88787 non-null  object        \n",
      " 17  number_of_engines       82805 non-null  float64       \n",
      " 18  engine_type             81812 non-null  object        \n",
      " 19  far_description         32023 non-null  object        \n",
      " 20  schedule                12582 non-null  object        \n",
      " 21  purpose_of_flight       82697 non-null  object        \n",
      " 22  air_carrier             16648 non-null  object        \n",
      " 23  total_fatal_injuries    77488 non-null  float64       \n",
      " 24  total_serious_injuries  76379 non-null  float64       \n",
      " 25  total_minor_injuries    76956 non-null  float64       \n",
      " 26  total_uninjured         82977 non-null  float64       \n",
      " 27  weather_condition       84397 non-null  object        \n",
      " 28  broad_phase_of_flight   61724 non-null  object        \n",
      " 29  report_status           82508 non-null  object        \n",
      " 30  publication_date        75118 non-null  object        \n",
      "dtypes: datetime64[ns](1), float64(5), object(25)\n",
      "memory usage: 21.0+ MB\n"
     ]
    }
   ],
   "source": [
    "df_aviation.info()"
   ]
  },
  {
   "cell_type": "code",
   "execution_count": 53,
   "metadata": {},
   "outputs": [],
   "source": [
    "df_aviation['Event.Date'] = pd.to_datetime(df_aviation[\"Event.Date\"], format=\"%Y-%m-%d\")"
   ]
  },
  {
   "cell_type": "code",
   "execution_count": 54,
   "metadata": {},
   "outputs": [],
   "source": [
    "df_aviation.columns = df_aviation.columns.str.strip().str.lower().str.replace('.', '_')"
   ]
  },
  {
   "cell_type": "code",
   "execution_count": 64,
   "metadata": {},
   "outputs": [],
   "source": [
    "df_aviation['aircraft_damage'].fillna('Unknown', inplace=True)"
   ]
  },
  {
   "cell_type": "code",
   "execution_count": 65,
   "metadata": {},
   "outputs": [
    {
     "data": {
      "text/plain": [
       "array(['Destroyed', 'Substantial', 'Minor', 'Unknown'], dtype=object)"
      ]
     },
     "execution_count": 65,
     "metadata": {},
     "output_type": "execute_result"
    }
   ],
   "source": [
    "df_aviation['aircraft_damage'].unique()"
   ]
  },
  {
   "cell_type": "code",
   "execution_count": 66,
   "metadata": {},
   "outputs": [
    {
     "name": "stdout",
     "output_type": "stream",
     "text": [
      "<class 'pandas.core.frame.DataFrame'>\n",
      "RangeIndex: 88889 entries, 0 to 88888\n",
      "Data columns (total 31 columns):\n",
      " #   Column                  Non-Null Count  Dtype         \n",
      "---  ------                  --------------  -----         \n",
      " 0   event_id                88889 non-null  object        \n",
      " 1   investigation_type      88889 non-null  object        \n",
      " 2   accident_number         88889 non-null  object        \n",
      " 3   event_date              88889 non-null  datetime64[ns]\n",
      " 4   location                88837 non-null  object        \n",
      " 5   country                 88663 non-null  object        \n",
      " 6   latitude                34382 non-null  object        \n",
      " 7   longitude               34373 non-null  object        \n",
      " 8   airport_code            50249 non-null  object        \n",
      " 9   airport_name            52790 non-null  object        \n",
      " 10  injury_severity         87889 non-null  object        \n",
      " 11  aircraft_damage         88889 non-null  object        \n",
      " 12  aircraft_category       32287 non-null  object        \n",
      " 13  registration_number     87572 non-null  object        \n",
      " 14  make                    88826 non-null  object        \n",
      " 15  model                   88797 non-null  object        \n",
      " 16  amateur_built           88787 non-null  object        \n",
      " 17  number_of_engines       82805 non-null  float64       \n",
      " 18  engine_type             81812 non-null  object        \n",
      " 19  far_description         32023 non-null  object        \n",
      " 20  schedule                12582 non-null  object        \n",
      " 21  purpose_of_flight       82697 non-null  object        \n",
      " 22  air_carrier             16648 non-null  object        \n",
      " 23  total_fatal_injuries    77488 non-null  float64       \n",
      " 24  total_serious_injuries  76379 non-null  float64       \n",
      " 25  total_minor_injuries    76956 non-null  float64       \n",
      " 26  total_uninjured         82977 non-null  float64       \n",
      " 27  weather_condition       84397 non-null  object        \n",
      " 28  broad_phase_of_flight   61724 non-null  object        \n",
      " 29  report_status           82508 non-null  object        \n",
      " 30  publication_date        75118 non-null  object        \n",
      "dtypes: datetime64[ns](1), float64(5), object(25)\n",
      "memory usage: 21.0+ MB\n"
     ]
    }
   ],
   "source": [
    "df_aviation.info()"
   ]
  },
  {
   "cell_type": "code",
   "execution_count": null,
   "metadata": {},
   "outputs": [],
   "source": []
  },
  {
   "cell_type": "code",
   "execution_count": 68,
   "metadata": {},
   "outputs": [],
   "source": [
    "df_aviation['total_minor_injuries'].fillna(df_aviation['total_minor_injuries'].median(), inplace=True)"
   ]
  },
  {
   "cell_type": "code",
   "execution_count": 69,
   "metadata": {},
   "outputs": [],
   "source": [
    "df_aviation['total_serious_injuries'].fillna(df_aviation['total_serious_injuries'].median(), inplace = True)"
   ]
  },
  {
   "cell_type": "code",
   "execution_count": 70,
   "metadata": {},
   "outputs": [],
   "source": [
    "df_aviation['total_fatal_injuries'].fillna(df_aviation['total_fatal_injuries'].median(), inplace=True)"
   ]
  },
  {
   "cell_type": "code",
   "execution_count": 71,
   "metadata": {},
   "outputs": [],
   "source": [
    "df_aviation['total_uninjured'].fillna(df_aviation['total_uninjured'].median(), inplace=True)"
   ]
  },
  {
   "cell_type": "code",
   "execution_count": 72,
   "metadata": {},
   "outputs": [
    {
     "name": "stdout",
     "output_type": "stream",
     "text": [
      "<class 'pandas.core.frame.DataFrame'>\n",
      "RangeIndex: 88889 entries, 0 to 88888\n",
      "Data columns (total 31 columns):\n",
      " #   Column                  Non-Null Count  Dtype         \n",
      "---  ------                  --------------  -----         \n",
      " 0   event_id                88889 non-null  object        \n",
      " 1   investigation_type      88889 non-null  object        \n",
      " 2   accident_number         88889 non-null  object        \n",
      " 3   event_date              88889 non-null  datetime64[ns]\n",
      " 4   location                88837 non-null  object        \n",
      " 5   country                 88663 non-null  object        \n",
      " 6   latitude                34382 non-null  object        \n",
      " 7   longitude               34373 non-null  object        \n",
      " 8   airport_code            50249 non-null  object        \n",
      " 9   airport_name            52790 non-null  object        \n",
      " 10  injury_severity         87889 non-null  object        \n",
      " 11  aircraft_damage         88889 non-null  object        \n",
      " 12  aircraft_category       32287 non-null  object        \n",
      " 13  registration_number     87572 non-null  object        \n",
      " 14  make                    88826 non-null  object        \n",
      " 15  model                   88797 non-null  object        \n",
      " 16  amateur_built           88787 non-null  object        \n",
      " 17  number_of_engines       82805 non-null  float64       \n",
      " 18  engine_type             81812 non-null  object        \n",
      " 19  far_description         32023 non-null  object        \n",
      " 20  schedule                12582 non-null  object        \n",
      " 21  purpose_of_flight       82697 non-null  object        \n",
      " 22  air_carrier             16648 non-null  object        \n",
      " 23  total_fatal_injuries    88889 non-null  float64       \n",
      " 24  total_serious_injuries  88889 non-null  float64       \n",
      " 25  total_minor_injuries    88889 non-null  float64       \n",
      " 26  total_uninjured         88889 non-null  float64       \n",
      " 27  weather_condition       84397 non-null  object        \n",
      " 28  broad_phase_of_flight   61724 non-null  object        \n",
      " 29  report_status           82508 non-null  object        \n",
      " 30  publication_date        75118 non-null  object        \n",
      "dtypes: datetime64[ns](1), float64(5), object(25)\n",
      "memory usage: 21.0+ MB\n"
     ]
    }
   ],
   "source": [
    "df_aviation.info()"
   ]
  },
  {
   "cell_type": "code",
   "execution_count": 73,
   "metadata": {},
   "outputs": [
    {
     "data": {
      "text/plain": [
       "Accident    85015\n",
       "Incident     3874\n",
       "Name: investigation_type, dtype: int64"
      ]
     },
     "execution_count": 73,
     "metadata": {},
     "output_type": "execute_result"
    }
   ],
   "source": [
    "df_aviation['investigation_type'].value_counts()"
   ]
  },
  {
   "cell_type": "code",
   "execution_count": 74,
   "metadata": {},
   "outputs": [
    {
     "data": {
      "text/plain": [
       "Probable Cause                                                                                                                                                                                                                                 61754\n",
       "Foreign                                                                                                                                                                                                                                         1999\n",
       "<br /><br />                                                                                                                                                                                                                                     167\n",
       "Factual                                                                                                                                                                                                                                          145\n",
       "The pilot's failure to maintain directional control during the landing roll.                                                                                                                                                                      56\n",
       "                                                                                                                                                                                                                                               ...  \n",
       "The A340 captain's failure to maintain adequate clearance between his wing and the tail of the EMB-145.                                                                                                                                            1\n",
       "The improper installation of the lower rear crankshaft counterweight snap rings by unknown maintenance personnel, which resulted in the separation of the counterweight and a subsequent total loss of engine power during initial climb.\\r        1\n",
       "The pilots selection of unsuitable terrain for landing which resulted in a nose over.\\r                                                                                                                                                           1\n",
       "The loss of engine power during an agricultural application flight due to a cylinder failure. \\r                                                                                                                                                   1\n",
       "Improper maintenance on the tail wheel anti-shimmy mechanism and the pilot's decision to continue operating the airplane with a known shimmy in the tail wheel.                                                                                    1\n",
       "Name: report_status, Length: 17075, dtype: int64"
      ]
     },
     "execution_count": 74,
     "metadata": {},
     "output_type": "execute_result"
    }
   ],
   "source": [
    "df_aviation['report_status'].value_counts()"
   ]
  },
  {
   "cell_type": "code",
   "execution_count": 109,
   "metadata": {},
   "outputs": [
    {
     "data": {
      "text/plain": [
       "array(['Cruise', 'Unknown', 'Approach', 'Climb', 'Takeoff', 'Landing',\n",
       "       'Taxi', 'Descent', 'Maneuvering', 'Standing', 'Go-around', 'Other',\n",
       "       nan], dtype=object)"
      ]
     },
     "execution_count": 109,
     "metadata": {},
     "output_type": "execute_result"
    }
   ],
   "source": [
    "df_aviation['broad_phase_of_flight'].unique()"
   ]
  },
  {
   "cell_type": "code",
   "execution_count": 110,
   "metadata": {},
   "outputs": [],
   "source": [
    "df_airplane = df_aviation.loc[df_aviation['aircraft_category'] == 'Airplane']"
   ]
  },
  {
   "cell_type": "code",
   "execution_count": 111,
   "metadata": {},
   "outputs": [
    {
     "data": {
      "text/plain": [
       "event_id        investigation_type  accident_number  event_date  location       country        latitude   longitude   airport_code  airport_name                 injury_severity  aircraft_damage  aircraft_category  registration_number  make    model  amateur_built  number_of_engines  engine_type  far_description                schedule  purpose_of_flight  air_carrier                                           total_fatal_injuries  total_serious_injuries  total_minor_injuries  total_uninjured  weather_condition  broad_phase_of_flight  report_status   publication_date\n",
       "20071108X01768  Accident            MIA08LA014A      2007-11-06  OPA LOCKA, FL  United States  25.904167  -80.273611  OPF           Opa Locka Executive Airport  Non-Fatal        Substantial      Airplane           N701SE               Cessna  C208B  No             1.0                Turbo Prop   Part 135: Air Taxi & Commuter  NSCH      Business           Florida Air Cargo, Inc (dba: Florida Air Cargo, Inc)  0.0                   0.0                     0.0                   2.0              VMC                Taxi                   Probable Cause  09-12-2011          1\n",
       "dtype: int64"
      ]
     },
     "execution_count": 111,
     "metadata": {},
     "output_type": "execute_result"
    }
   ],
   "source": [
    "df_airplane.value_counts()"
   ]
  },
  {
   "cell_type": "code",
   "execution_count": 112,
   "metadata": {},
   "outputs": [
    {
     "name": "stdout",
     "output_type": "stream",
     "text": [
      "<class 'pandas.core.frame.DataFrame'>\n",
      "RangeIndex: 88889 entries, 0 to 88888\n",
      "Data columns (total 31 columns):\n",
      " #   Column                  Non-Null Count  Dtype         \n",
      "---  ------                  --------------  -----         \n",
      " 0   event_id                88889 non-null  object        \n",
      " 1   investigation_type      88889 non-null  object        \n",
      " 2   accident_number         88889 non-null  object        \n",
      " 3   event_date              88889 non-null  datetime64[ns]\n",
      " 4   location                88837 non-null  object        \n",
      " 5   country                 88663 non-null  object        \n",
      " 6   latitude                34382 non-null  object        \n",
      " 7   longitude               34373 non-null  object        \n",
      " 8   airport_code            50249 non-null  object        \n",
      " 9   airport_name            52790 non-null  object        \n",
      " 10  injury_severity         87889 non-null  object        \n",
      " 11  aircraft_damage         88889 non-null  object        \n",
      " 12  aircraft_category       32287 non-null  object        \n",
      " 13  registration_number     87572 non-null  object        \n",
      " 14  make                    88826 non-null  object        \n",
      " 15  model                   88797 non-null  object        \n",
      " 16  amateur_built           88787 non-null  object        \n",
      " 17  number_of_engines       82805 non-null  float64       \n",
      " 18  engine_type             81812 non-null  object        \n",
      " 19  far_description         32023 non-null  object        \n",
      " 20  schedule                12582 non-null  object        \n",
      " 21  purpose_of_flight       82697 non-null  object        \n",
      " 22  air_carrier             16648 non-null  object        \n",
      " 23  total_fatal_injuries    88889 non-null  float64       \n",
      " 24  total_serious_injuries  88889 non-null  float64       \n",
      " 25  total_minor_injuries    88889 non-null  float64       \n",
      " 26  total_uninjured         88889 non-null  float64       \n",
      " 27  weather_condition       84397 non-null  object        \n",
      " 28  broad_phase_of_flight   61724 non-null  object        \n",
      " 29  report_status           82508 non-null  object        \n",
      " 30  publication_date        75118 non-null  object        \n",
      "dtypes: datetime64[ns](1), float64(5), object(25)\n",
      "memory usage: 21.0+ MB\n"
     ]
    }
   ],
   "source": [
    "df_aviation.info()"
   ]
  },
  {
   "cell_type": "code",
   "execution_count": 114,
   "metadata": {},
   "outputs": [
    {
     "name": "stderr",
     "output_type": "stream",
     "text": [
      "<ipython-input-114-eec93f1b529c>:1: SettingWithCopyWarning: \n",
      "A value is trying to be set on a copy of a slice from a DataFrame.\n",
      "Try using .loc[row_indexer,col_indexer] = value instead\n",
      "\n",
      "See the caveats in the documentation: https://pandas.pydata.org/pandas-docs/stable/user_guide/indexing.html#returning-a-view-versus-a-copy\n",
      "  df_airplane['make'] = df_airplane['make'].str.lower()\n"
     ]
    }
   ],
   "source": [
    "df_airplane['make'] = df_airplane['make'].str.lower()\n",
    "\n",
    "top_make = df_airplane['make'].value_counts().head(10).index\n",
    "\n"
   ]
  },
  {
   "cell_type": "code",
   "execution_count": null,
   "metadata": {},
   "outputs": [],
   "source": []
  },
  {
   "cell_type": "code",
   "execution_count": 115,
   "metadata": {},
   "outputs": [
    {
     "data": {
      "text/plain": [
       "SCHD    1497\n",
       "NSCH    1237\n",
       "UNK      256\n",
       "Name: schedule, dtype: int64"
      ]
     },
     "execution_count": 115,
     "metadata": {},
     "output_type": "execute_result"
    }
   ],
   "source": [
    "df_airplane['schedule'].value_counts()"
   ]
  },
  {
   "cell_type": "code",
   "execution_count": 116,
   "metadata": {},
   "outputs": [
    {
     "data": {
      "text/plain": [
       "array(['Non-Fatal', 'Fatal(1)', 'Fatal(2)', 'Fatal(3)', 'Incident',\n",
       "       'Fatal(8)', 'Fatal(4)', 'Fatal(7)', 'Fatal(6)', 'Fatal(5)',\n",
       "       'Fatal(12)', 'Fatal(14)', 'Fatal(11)', 'Fatal(17)', 'Fatal(10)',\n",
       "       'Fatal(27)', 'Fatal(16)', 'Fatal(54)', 'Fatal(160)', 'Fatal(97)',\n",
       "       'Fatal(125)', 'Unavailable', 'Fatal(35)', 'Fatal(228)', 'Fatal(9)',\n",
       "       'Fatal(18)', 'Fatal(169)', 'Fatal(131)', 'Fatal(13)', 'Fatal(24)',\n",
       "       'Fatal(20)', 'Fatal(65)', 'Fatal(19)', 'Fatal(26)', 'Fatal(113)',\n",
       "       'Fatal(154)', 'Fatal', nan, 'Minor', 'Serious'], dtype=object)"
      ]
     },
     "execution_count": 116,
     "metadata": {},
     "output_type": "execute_result"
    }
   ],
   "source": [
    "df_airplane['injury_severity'].unique()"
   ]
  },
  {
   "cell_type": "code",
   "execution_count": 117,
   "metadata": {},
   "outputs": [
    {
     "data": {
      "text/plain": [
       "count    27617.000000\n",
       "mean         0.262954\n",
       "std          1.973980\n",
       "min          0.000000\n",
       "25%          0.000000\n",
       "50%          0.000000\n",
       "75%          0.000000\n",
       "max        161.000000\n",
       "Name: total_serious_injuries, dtype: float64"
      ]
     },
     "execution_count": 117,
     "metadata": {},
     "output_type": "execute_result"
    }
   ],
   "source": [
    "df_airplane['total_serious_injuries'].describe()"
   ]
  },
  {
   "cell_type": "code",
   "execution_count": 118,
   "metadata": {},
   "outputs": [],
   "source": [
    "df_aviation['total_fatal_injuries'].fillna(0, inplace=True)\n",
    "df_aviation['total_serious_injuries'].fillna(0, inplace=True)\n",
    "df_aviation['total_minor_injuries'].fillna(0, inplace=True)\n",
    "df_aviation['total_uninjured'].fillna(0, inplace=True)"
   ]
  },
  {
   "cell_type": "code",
   "execution_count": null,
   "metadata": {},
   "outputs": [],
   "source": [
    "df_airplane.to_csv('filem.csv')"
   ]
  },
  {
   "cell_type": "code",
   "execution_count": 119,
   "metadata": {},
   "outputs": [
    {
     "data": {
      "text/html": [
       "<div>\n",
       "<style scoped>\n",
       "    .dataframe tbody tr th:only-of-type {\n",
       "        vertical-align: middle;\n",
       "    }\n",
       "\n",
       "    .dataframe tbody tr th {\n",
       "        vertical-align: top;\n",
       "    }\n",
       "\n",
       "    .dataframe thead th {\n",
       "        text-align: right;\n",
       "    }\n",
       "</style>\n",
       "<table border=\"1\" class=\"dataframe\">\n",
       "  <thead>\n",
       "    <tr style=\"text-align: right;\">\n",
       "      <th></th>\n",
       "      <th>index</th>\n",
       "      <th>event_id</th>\n",
       "      <th>investigation_type</th>\n",
       "      <th>accident_number</th>\n",
       "      <th>event_date</th>\n",
       "      <th>location</th>\n",
       "      <th>country</th>\n",
       "      <th>latitude</th>\n",
       "      <th>longitude</th>\n",
       "      <th>airport_code</th>\n",
       "      <th>...</th>\n",
       "      <th>purpose_of_flight</th>\n",
       "      <th>air_carrier</th>\n",
       "      <th>total_fatal_injuries</th>\n",
       "      <th>total_serious_injuries</th>\n",
       "      <th>total_minor_injuries</th>\n",
       "      <th>total_uninjured</th>\n",
       "      <th>weather_condition</th>\n",
       "      <th>broad_phase_of_flight</th>\n",
       "      <th>report_status</th>\n",
       "      <th>publication_date</th>\n",
       "    </tr>\n",
       "  </thead>\n",
       "  <tbody>\n",
       "    <tr>\n",
       "      <th>0</th>\n",
       "      <td>5</td>\n",
       "      <td>20170710X52551</td>\n",
       "      <td>Accident</td>\n",
       "      <td>NYC79AA106</td>\n",
       "      <td>1979-09-17</td>\n",
       "      <td>BOSTON, MA</td>\n",
       "      <td>United States</td>\n",
       "      <td>42.4453</td>\n",
       "      <td>-70.7583</td>\n",
       "      <td>NaN</td>\n",
       "      <td>...</td>\n",
       "      <td>NaN</td>\n",
       "      <td>Air Canada</td>\n",
       "      <td>0.0</td>\n",
       "      <td>0.0</td>\n",
       "      <td>1.0</td>\n",
       "      <td>44.0</td>\n",
       "      <td>VMC</td>\n",
       "      <td>Climb</td>\n",
       "      <td>Probable Cause</td>\n",
       "      <td>19-09-2017</td>\n",
       "    </tr>\n",
       "    <tr>\n",
       "      <th>1</th>\n",
       "      <td>7</td>\n",
       "      <td>20020909X01562</td>\n",
       "      <td>Accident</td>\n",
       "      <td>SEA82DA022</td>\n",
       "      <td>1982-01-01</td>\n",
       "      <td>PULLMAN, WA</td>\n",
       "      <td>United States</td>\n",
       "      <td>NaN</td>\n",
       "      <td>NaN</td>\n",
       "      <td>NaN</td>\n",
       "      <td>...</td>\n",
       "      <td>Personal</td>\n",
       "      <td>NaN</td>\n",
       "      <td>0.0</td>\n",
       "      <td>0.0</td>\n",
       "      <td>0.0</td>\n",
       "      <td>2.0</td>\n",
       "      <td>VMC</td>\n",
       "      <td>Takeoff</td>\n",
       "      <td>Probable Cause</td>\n",
       "      <td>01-01-1982</td>\n",
       "    </tr>\n",
       "    <tr>\n",
       "      <th>2</th>\n",
       "      <td>8</td>\n",
       "      <td>20020909X01561</td>\n",
       "      <td>Accident</td>\n",
       "      <td>NYC82DA015</td>\n",
       "      <td>1982-01-01</td>\n",
       "      <td>EAST HANOVER, NJ</td>\n",
       "      <td>United States</td>\n",
       "      <td>NaN</td>\n",
       "      <td>NaN</td>\n",
       "      <td>N58</td>\n",
       "      <td>...</td>\n",
       "      <td>Business</td>\n",
       "      <td>NaN</td>\n",
       "      <td>0.0</td>\n",
       "      <td>0.0</td>\n",
       "      <td>0.0</td>\n",
       "      <td>2.0</td>\n",
       "      <td>IMC</td>\n",
       "      <td>Landing</td>\n",
       "      <td>Probable Cause</td>\n",
       "      <td>01-01-1982</td>\n",
       "    </tr>\n",
       "    <tr>\n",
       "      <th>3</th>\n",
       "      <td>12</td>\n",
       "      <td>20020917X02148</td>\n",
       "      <td>Accident</td>\n",
       "      <td>FTW82FRJ07</td>\n",
       "      <td>1982-01-02</td>\n",
       "      <td>HOMER, LA</td>\n",
       "      <td>United States</td>\n",
       "      <td>NaN</td>\n",
       "      <td>NaN</td>\n",
       "      <td>NaN</td>\n",
       "      <td>...</td>\n",
       "      <td>Personal</td>\n",
       "      <td>NaN</td>\n",
       "      <td>0.0</td>\n",
       "      <td>0.0</td>\n",
       "      <td>1.0</td>\n",
       "      <td>0.0</td>\n",
       "      <td>IMC</td>\n",
       "      <td>Cruise</td>\n",
       "      <td>Probable Cause</td>\n",
       "      <td>02-01-1983</td>\n",
       "    </tr>\n",
       "    <tr>\n",
       "      <th>4</th>\n",
       "      <td>13</td>\n",
       "      <td>20020917X02134</td>\n",
       "      <td>Accident</td>\n",
       "      <td>FTW82FRA14</td>\n",
       "      <td>1982-01-02</td>\n",
       "      <td>HEARNE, TX</td>\n",
       "      <td>United States</td>\n",
       "      <td>NaN</td>\n",
       "      <td>NaN</td>\n",
       "      <td>T72</td>\n",
       "      <td>...</td>\n",
       "      <td>Personal</td>\n",
       "      <td>NaN</td>\n",
       "      <td>1.0</td>\n",
       "      <td>0.0</td>\n",
       "      <td>0.0</td>\n",
       "      <td>0.0</td>\n",
       "      <td>IMC</td>\n",
       "      <td>Takeoff</td>\n",
       "      <td>Probable Cause</td>\n",
       "      <td>02-01-1983</td>\n",
       "    </tr>\n",
       "    <tr>\n",
       "      <th>...</th>\n",
       "      <td>...</td>\n",
       "      <td>...</td>\n",
       "      <td>...</td>\n",
       "      <td>...</td>\n",
       "      <td>...</td>\n",
       "      <td>...</td>\n",
       "      <td>...</td>\n",
       "      <td>...</td>\n",
       "      <td>...</td>\n",
       "      <td>...</td>\n",
       "      <td>...</td>\n",
       "      <td>...</td>\n",
       "      <td>...</td>\n",
       "      <td>...</td>\n",
       "      <td>...</td>\n",
       "      <td>...</td>\n",
       "      <td>...</td>\n",
       "      <td>...</td>\n",
       "      <td>...</td>\n",
       "      <td>...</td>\n",
       "      <td>...</td>\n",
       "    </tr>\n",
       "    <tr>\n",
       "      <th>27612</th>\n",
       "      <td>88869</td>\n",
       "      <td>20221213106455</td>\n",
       "      <td>Accident</td>\n",
       "      <td>WPR23LA065</td>\n",
       "      <td>2022-12-13</td>\n",
       "      <td>Lewistown, MT</td>\n",
       "      <td>United States</td>\n",
       "      <td>047257N</td>\n",
       "      <td>0109280W</td>\n",
       "      <td>KLWT</td>\n",
       "      <td>...</td>\n",
       "      <td>NaN</td>\n",
       "      <td>NaN</td>\n",
       "      <td>0.0</td>\n",
       "      <td>0.0</td>\n",
       "      <td>0.0</td>\n",
       "      <td>1.0</td>\n",
       "      <td>NaN</td>\n",
       "      <td>NaN</td>\n",
       "      <td>NaN</td>\n",
       "      <td>14-12-2022</td>\n",
       "    </tr>\n",
       "    <tr>\n",
       "      <th>27613</th>\n",
       "      <td>88873</td>\n",
       "      <td>20221215106463</td>\n",
       "      <td>Accident</td>\n",
       "      <td>ERA23LA090</td>\n",
       "      <td>2022-12-14</td>\n",
       "      <td>San Juan, PR</td>\n",
       "      <td>United States</td>\n",
       "      <td>182724N</td>\n",
       "      <td>0066554W</td>\n",
       "      <td>SIG</td>\n",
       "      <td>...</td>\n",
       "      <td>Personal</td>\n",
       "      <td>SKY WEST AVIATION INC TRUSTEE</td>\n",
       "      <td>0.0</td>\n",
       "      <td>0.0</td>\n",
       "      <td>0.0</td>\n",
       "      <td>1.0</td>\n",
       "      <td>VMC</td>\n",
       "      <td>NaN</td>\n",
       "      <td>NaN</td>\n",
       "      <td>27-12-2022</td>\n",
       "    </tr>\n",
       "    <tr>\n",
       "      <th>27614</th>\n",
       "      <td>88876</td>\n",
       "      <td>20221219106475</td>\n",
       "      <td>Accident</td>\n",
       "      <td>WPR23LA069</td>\n",
       "      <td>2022-12-15</td>\n",
       "      <td>Wichita, KS</td>\n",
       "      <td>United States</td>\n",
       "      <td>373829N</td>\n",
       "      <td>0972635W</td>\n",
       "      <td>ICT</td>\n",
       "      <td>...</td>\n",
       "      <td>NaN</td>\n",
       "      <td>NaN</td>\n",
       "      <td>0.0</td>\n",
       "      <td>0.0</td>\n",
       "      <td>0.0</td>\n",
       "      <td>1.0</td>\n",
       "      <td>NaN</td>\n",
       "      <td>NaN</td>\n",
       "      <td>NaN</td>\n",
       "      <td>19-12-2022</td>\n",
       "    </tr>\n",
       "    <tr>\n",
       "      <th>27615</th>\n",
       "      <td>88877</td>\n",
       "      <td>20221219106470</td>\n",
       "      <td>Accident</td>\n",
       "      <td>ERA23LA091</td>\n",
       "      <td>2022-12-16</td>\n",
       "      <td>Brooksville, FL</td>\n",
       "      <td>United States</td>\n",
       "      <td>282825N</td>\n",
       "      <td>0822719W</td>\n",
       "      <td>BKV</td>\n",
       "      <td>...</td>\n",
       "      <td>Personal</td>\n",
       "      <td>GERBER RICHARD E</td>\n",
       "      <td>0.0</td>\n",
       "      <td>1.0</td>\n",
       "      <td>0.0</td>\n",
       "      <td>0.0</td>\n",
       "      <td>VMC</td>\n",
       "      <td>NaN</td>\n",
       "      <td>NaN</td>\n",
       "      <td>23-12-2022</td>\n",
       "    </tr>\n",
       "    <tr>\n",
       "      <th>27616</th>\n",
       "      <td>88886</td>\n",
       "      <td>20221227106497</td>\n",
       "      <td>Accident</td>\n",
       "      <td>WPR23LA075</td>\n",
       "      <td>2022-12-26</td>\n",
       "      <td>Payson, AZ</td>\n",
       "      <td>United States</td>\n",
       "      <td>341525N</td>\n",
       "      <td>1112021W</td>\n",
       "      <td>PAN</td>\n",
       "      <td>...</td>\n",
       "      <td>Personal</td>\n",
       "      <td>NaN</td>\n",
       "      <td>0.0</td>\n",
       "      <td>0.0</td>\n",
       "      <td>0.0</td>\n",
       "      <td>1.0</td>\n",
       "      <td>VMC</td>\n",
       "      <td>NaN</td>\n",
       "      <td>NaN</td>\n",
       "      <td>27-12-2022</td>\n",
       "    </tr>\n",
       "  </tbody>\n",
       "</table>\n",
       "<p>27617 rows × 32 columns</p>\n",
       "</div>"
      ],
      "text/plain": [
       "       index        event_id investigation_type accident_number event_date  \\\n",
       "0          5  20170710X52551           Accident      NYC79AA106 1979-09-17   \n",
       "1          7  20020909X01562           Accident      SEA82DA022 1982-01-01   \n",
       "2          8  20020909X01561           Accident      NYC82DA015 1982-01-01   \n",
       "3         12  20020917X02148           Accident      FTW82FRJ07 1982-01-02   \n",
       "4         13  20020917X02134           Accident      FTW82FRA14 1982-01-02   \n",
       "...      ...             ...                ...             ...        ...   \n",
       "27612  88869  20221213106455           Accident      WPR23LA065 2022-12-13   \n",
       "27613  88873  20221215106463           Accident      ERA23LA090 2022-12-14   \n",
       "27614  88876  20221219106475           Accident      WPR23LA069 2022-12-15   \n",
       "27615  88877  20221219106470           Accident      ERA23LA091 2022-12-16   \n",
       "27616  88886  20221227106497           Accident      WPR23LA075 2022-12-26   \n",
       "\n",
       "               location        country latitude longitude airport_code  ...  \\\n",
       "0            BOSTON, MA  United States  42.4453  -70.7583          NaN  ...   \n",
       "1           PULLMAN, WA  United States      NaN       NaN          NaN  ...   \n",
       "2      EAST HANOVER, NJ  United States      NaN       NaN          N58  ...   \n",
       "3             HOMER, LA  United States      NaN       NaN          NaN  ...   \n",
       "4            HEARNE, TX  United States      NaN       NaN          T72  ...   \n",
       "...                 ...            ...      ...       ...          ...  ...   \n",
       "27612     Lewistown, MT  United States  047257N  0109280W         KLWT  ...   \n",
       "27613      San Juan, PR  United States  182724N  0066554W          SIG  ...   \n",
       "27614       Wichita, KS  United States  373829N  0972635W          ICT  ...   \n",
       "27615   Brooksville, FL  United States  282825N  0822719W          BKV  ...   \n",
       "27616        Payson, AZ  United States  341525N  1112021W          PAN  ...   \n",
       "\n",
       "      purpose_of_flight                    air_carrier total_fatal_injuries  \\\n",
       "0                   NaN                     Air Canada                  0.0   \n",
       "1              Personal                            NaN                  0.0   \n",
       "2              Business                            NaN                  0.0   \n",
       "3              Personal                            NaN                  0.0   \n",
       "4              Personal                            NaN                  1.0   \n",
       "...                 ...                            ...                  ...   \n",
       "27612               NaN                            NaN                  0.0   \n",
       "27613          Personal  SKY WEST AVIATION INC TRUSTEE                  0.0   \n",
       "27614               NaN                            NaN                  0.0   \n",
       "27615          Personal               GERBER RICHARD E                  0.0   \n",
       "27616          Personal                            NaN                  0.0   \n",
       "\n",
       "      total_serious_injuries total_minor_injuries total_uninjured  \\\n",
       "0                        0.0                  1.0            44.0   \n",
       "1                        0.0                  0.0             2.0   \n",
       "2                        0.0                  0.0             2.0   \n",
       "3                        0.0                  1.0             0.0   \n",
       "4                        0.0                  0.0             0.0   \n",
       "...                      ...                  ...             ...   \n",
       "27612                    0.0                  0.0             1.0   \n",
       "27613                    0.0                  0.0             1.0   \n",
       "27614                    0.0                  0.0             1.0   \n",
       "27615                    1.0                  0.0             0.0   \n",
       "27616                    0.0                  0.0             1.0   \n",
       "\n",
       "      weather_condition broad_phase_of_flight   report_status publication_date  \n",
       "0                   VMC                 Climb  Probable Cause       19-09-2017  \n",
       "1                   VMC               Takeoff  Probable Cause       01-01-1982  \n",
       "2                   IMC               Landing  Probable Cause       01-01-1982  \n",
       "3                   IMC                Cruise  Probable Cause       02-01-1983  \n",
       "4                   IMC               Takeoff  Probable Cause       02-01-1983  \n",
       "...                 ...                   ...             ...              ...  \n",
       "27612               NaN                   NaN             NaN       14-12-2022  \n",
       "27613               VMC                   NaN             NaN       27-12-2022  \n",
       "27614               NaN                   NaN             NaN       19-12-2022  \n",
       "27615               VMC                   NaN             NaN       23-12-2022  \n",
       "27616               VMC                   NaN             NaN       27-12-2022  \n",
       "\n",
       "[27617 rows x 32 columns]"
      ]
     },
     "execution_count": 119,
     "metadata": {},
     "output_type": "execute_result"
    }
   ],
   "source": [
    "df_airplane.reset_index()"
   ]
  },
  {
   "cell_type": "code",
   "execution_count": 121,
   "metadata": {},
   "outputs": [
    {
     "name": "stdout",
     "output_type": "stream",
     "text": [
      "<class 'pandas.core.frame.DataFrame'>\n",
      "Int64Index: 27617 entries, 5 to 88886\n",
      "Data columns (total 31 columns):\n",
      " #   Column                  Non-Null Count  Dtype         \n",
      "---  ------                  --------------  -----         \n",
      " 0   event_id                27617 non-null  object        \n",
      " 1   investigation_type      27617 non-null  object        \n",
      " 2   accident_number         27617 non-null  object        \n",
      " 3   event_date              27617 non-null  datetime64[ns]\n",
      " 4   location                27610 non-null  object        \n",
      " 5   country                 27610 non-null  object        \n",
      " 6   latitude                22092 non-null  object        \n",
      " 7   longitude               22083 non-null  object        \n",
      " 8   airport_code            17773 non-null  object        \n",
      " 9   airport_name            18256 non-null  object        \n",
      " 10  injury_severity         26803 non-null  object        \n",
      " 11  aircraft_damage         27617 non-null  object        \n",
      " 12  aircraft_category       27617 non-null  object        \n",
      " 13  registration_number     27391 non-null  object        \n",
      " 14  make                    27608 non-null  object        \n",
      " 15  model                   27586 non-null  object        \n",
      " 16  amateur_built           27600 non-null  object        \n",
      " 17  number_of_engines       24863 non-null  float64       \n",
      " 18  engine_type             23391 non-null  object        \n",
      " 19  far_description         27118 non-null  object        \n",
      " 20  schedule                2990 non-null   object        \n",
      " 21  purpose_of_flight       23878 non-null  object        \n",
      " 22  air_carrier             11267 non-null  object        \n",
      " 23  total_fatal_injuries    27617 non-null  float64       \n",
      " 24  total_serious_injuries  27617 non-null  float64       \n",
      " 25  total_minor_injuries    27617 non-null  float64       \n",
      " 26  total_uninjured         27617 non-null  float64       \n",
      " 27  weather_condition       24564 non-null  object        \n",
      " 28  broad_phase_of_flight   6408 non-null   object        \n",
      " 29  report_status           22646 non-null  object        \n",
      " 30  publication_date        26616 non-null  object        \n",
      "dtypes: datetime64[ns](1), float64(5), object(25)\n",
      "memory usage: 6.7+ MB\n"
     ]
    }
   ],
   "source": [
    "df_airplane.info()"
   ]
  },
  {
   "cell_type": "code",
   "execution_count": 132,
   "metadata": {},
   "outputs": [
    {
     "data": {
      "text/plain": [
       "172          870\n",
       "152          451\n",
       "737          404\n",
       "182          345\n",
       "172N         316\n",
       "172S         278\n",
       "PA28         273\n",
       "SR22         265\n",
       "150          256\n",
       "180          237\n",
       "PA-28-140    232\n",
       "172M         217\n",
       "PA-18-150    202\n",
       "A36          200\n",
       "172P         167\n",
       "PA-28-161    144\n",
       "140          134\n",
       "PA-28-180    129\n",
       "170B         122\n",
       "210          119\n",
       "PA-28-181    115\n",
       "7AC          112\n",
       "7GCBC        112\n",
       "172R         110\n",
       "PA-18        109\n",
       "Name: model, dtype: int64"
      ]
     },
     "execution_count": 132,
     "metadata": {},
     "output_type": "execute_result"
    }
   ],
   "source": [
    "df_airplane['make'].value_counts().head(50)\n",
    "\n",
    "df_airplane['model'].value_counts().head(25)"
   ]
  },
  {
   "cell_type": "code",
   "execution_count": 155,
   "metadata": {},
   "outputs": [
    {
     "data": {
      "text/plain": [
       "array([ 2.,  1.,  3.,  4., nan,  0.,  8.,  6.])"
      ]
     },
     "execution_count": 155,
     "metadata": {},
     "output_type": "execute_result"
    }
   ],
   "source": [
    "df_airplane['number_of_engines'].unique()"
   ]
  },
  {
   "cell_type": "code",
   "execution_count": 168,
   "metadata": {
    "scrolled": true
   },
   "outputs": [
    {
     "data": {
      "text/plain": [
       "1.0    21176\n",
       "2.0     3515\n",
       "4.0      103\n",
       "3.0       58\n",
       "0.0        9\n",
       "6.0        1\n",
       "8.0        1\n",
       "Name: number_of_engines, dtype: int64"
      ]
     },
     "execution_count": 168,
     "metadata": {},
     "output_type": "execute_result"
    }
   ],
   "source": [
    " df_airplane['number_of_engines'].value_counts()"
   ]
  },
  {
   "cell_type": "code",
   "execution_count": 169,
   "metadata": {},
   "outputs": [
    {
     "data": {
      "text/plain": [
       "Reciprocating      20715\n",
       "Turbo Prop          1366\n",
       "Turbo Fan            970\n",
       "Turbo Jet            158\n",
       "Unknown              153\n",
       "Geared Turbofan       12\n",
       "Turbo Shaft           11\n",
       "Electric               5\n",
       "UNK                    1\n",
       "Name: engine_type, dtype: int64"
      ]
     },
     "execution_count": 169,
     "metadata": {},
     "output_type": "execute_result"
    }
   ],
   "source": [
    "df_airplane['engine_type'].value_counts()"
   ]
  },
  {
   "cell_type": "code",
   "execution_count": null,
   "metadata": {},
   "outputs": [],
   "source": [
    "df_airplane['number_of_engines']"
   ]
  },
  {
   "cell_type": "code",
   "execution_count": null,
   "metadata": {},
   "outputs": [],
   "source": []
  }
 ],
 "metadata": {
  "kernelspec": {
   "display_name": "Python (learn-env)",
   "language": "python",
   "name": "learn-env"
  },
  "language_info": {
   "codemirror_mode": {
    "name": "ipython",
    "version": 3
   },
   "file_extension": ".py",
   "mimetype": "text/x-python",
   "name": "python",
   "nbconvert_exporter": "python",
   "pygments_lexer": "ipython3",
   "version": "3.8.5"
  }
 },
 "nbformat": 4,
 "nbformat_minor": 4
}
