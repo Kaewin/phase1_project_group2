{
 "cells": [
  {
   "cell_type": "markdown",
   "metadata": {},
   "source": [
    "# This is the scratch notebook for EDA"
   ]
  },
  {
   "cell_type": "markdown",
   "metadata": {},
   "source": [
    "#### First off, here is a link to the data\n",
    "\n",
    "https://www.kaggle.com/datasets/khsamaha/aviation-accident-database-synopses"
   ]
  },
  {
   "cell_type": "code",
   "execution_count": 1,
   "metadata": {},
   "outputs": [],
   "source": [
    "# First need import statements\n",
    "\n",
    "import numpy as np\n",
    "import pandas as pd\n",
    "import seaborn as sns\n",
    "import matplotlib.pyplot as plt\n",
    "\n",
    "pd.set_option('display.max_colwidth', None)"
   ]
  },
  {
   "cell_type": "markdown",
   "metadata": {},
   "source": [
    "### Question Statement:\n",
    "\n",
    "#### Which aircraft are the lowest risk \n",
    "\n",
    "#### Have 3 concrete business recommendations"
   ]
  },
  {
   "cell_type": "markdown",
   "metadata": {},
   "source": [
    "## Exploring the columns"
   ]
  },
  {
   "cell_type": "code",
   "execution_count": 2,
   "metadata": {
    "scrolled": true
   },
   "outputs": [],
   "source": [
    "# Now import the data\n",
    "\n",
    "df = pd.read_csv(\"./Data/AviationData.csv\", encoding='latin-1', low_memory = False)"
   ]
  },
  {
   "cell_type": "code",
   "execution_count": 3,
   "metadata": {
    "scrolled": true
   },
   "outputs": [
    {
     "name": "stdout",
     "output_type": "stream",
     "text": [
      "These are the possible inputs for FAR.Description\n",
      "Index(['091', 'Part 91: General Aviation', 'NUSN', 'NUSC', '137', '135', '121',\n",
      "       'Part 137: Agricultural', 'UNK', 'Part 135: Air Taxi & Commuter',\n",
      "       'PUBU', '129', 'Part 121: Air Carrier', '133', 'Part 129: Foreign',\n",
      "       'Non-U.S., Non-Commercial', 'Non-U.S., Commercial',\n",
      "       'Part 133: Rotorcraft Ext. Load', 'Unknown', 'Public Use', '091K',\n",
      "       'ARMF', 'Part 125: 20+ Pax,6000+ lbs', '125', '107', 'Public Aircraft',\n",
      "       '103', 'Part 91 Subpart K: Fractional', 'Armed Forces',\n",
      "       'Part 91F: Special Flt Ops.', '437'],\n",
      "      dtype='object')\n",
      "[18221  6486  1584  1013  1010   746   679   437   371   298   253   246\n",
      "   165   107   100    97    93    32    22    19    14     8     5     5\n",
      "     4     2     2     1     1     1     1]\n",
      "\n"
     ]
    }
   ],
   "source": [
    "# Take a look\n",
    "\n",
    "# print(\"These are the possible inputs for Aircraft Damage\")\n",
    "# print(df['Aircraft.damage'].value_counts().index)\n",
    "# print()\n",
    "\n",
    "# print(\"These are the possible inputs for Injury Severity (already looked at)\")\n",
    "# print(df['Injury.Severity'].value_counts().index)\n",
    "# print()\n",
    "\n",
    "# print(\"These are the possible inputs for Aircraft.Category\")\n",
    "# print(df['Aircraft.Category'].value_counts().index)\n",
    "# print(df['Aircraft.Category'].value_counts().values)\n",
    "# print()\n",
    "\n",
    "# print(\"These are the possible inputs for investigation type\")\n",
    "# print(df['Investigation.Type'].value_counts().index)\n",
    "# print()\n",
    "\n",
    "# print(\"These are the possible inputs for Amateur.Built\")\n",
    "# print(df['Amateur.Built'].value_counts().index)\n",
    "# print(df['Amateur.Built'].value_counts().values)\n",
    "\n",
    "# print(\"These are the possible inputs for Report.Status\")\n",
    "# print(df['Report.Status'].value_counts().index)\n",
    "# print(df['Report.Status'].value_counts().values)\n",
    "\n",
    "# print(\"These are the possible inputs for Weather.Condition\")\n",
    "# print(df['Weather.Condition'].value_counts().index)\n",
    "# print(df['Weather.Condition'].value_counts().values)\n",
    "\n",
    "# print(\"These are the possible inputs for Accident.Number\")\n",
    "# print(df['Accident.Number'].value_counts().index)\n",
    "# print(df['Accident.Number'].value_counts().values)\n",
    "\n",
    "\n",
    "# print(\"These are the possible inputs for Airport.Code\")\n",
    "# print(df['Airport.Code'].value_counts().index)\n",
    "# print(df['Airport.Code'].value_counts().values)\n",
    "\n",
    "print(\"These are the possible inputs for FAR.Description\")\n",
    "print(df['FAR.Description'].value_counts().index)\n",
    "print(df['FAR.Description'].value_counts().values)\n",
    "\n",
    "print()"
   ]
  },
  {
   "cell_type": "code",
   "execution_count": 4,
   "metadata": {
    "scrolled": true
   },
   "outputs": [
    {
     "name": "stdout",
     "output_type": "stream",
     "text": [
      "<class 'pandas.core.frame.DataFrame'>\n",
      "RangeIndex: 88889 entries, 0 to 88888\n",
      "Data columns (total 31 columns):\n",
      " #   Column                  Non-Null Count  Dtype  \n",
      "---  ------                  --------------  -----  \n",
      " 0   Event.Id                88889 non-null  object \n",
      " 1   Investigation.Type      88889 non-null  object \n",
      " 2   Accident.Number         88889 non-null  object \n",
      " 3   Event.Date              88889 non-null  object \n",
      " 4   Location                88837 non-null  object \n",
      " 5   Country                 88663 non-null  object \n",
      " 6   Latitude                34382 non-null  object \n",
      " 7   Longitude               34373 non-null  object \n",
      " 8   Airport.Code            50249 non-null  object \n",
      " 9   Airport.Name            52790 non-null  object \n",
      " 10  Injury.Severity         87889 non-null  object \n",
      " 11  Aircraft.damage         85695 non-null  object \n",
      " 12  Aircraft.Category       32287 non-null  object \n",
      " 13  Registration.Number     87572 non-null  object \n",
      " 14  Make                    88826 non-null  object \n",
      " 15  Model                   88797 non-null  object \n",
      " 16  Amateur.Built           88787 non-null  object \n",
      " 17  Number.of.Engines       82805 non-null  float64\n",
      " 18  Engine.Type             81812 non-null  object \n",
      " 19  FAR.Description         32023 non-null  object \n",
      " 20  Schedule                12582 non-null  object \n",
      " 21  Purpose.of.flight       82697 non-null  object \n",
      " 22  Air.carrier             16648 non-null  object \n",
      " 23  Total.Fatal.Injuries    77488 non-null  float64\n",
      " 24  Total.Serious.Injuries  76379 non-null  float64\n",
      " 25  Total.Minor.Injuries    76956 non-null  float64\n",
      " 26  Total.Uninjured         82977 non-null  float64\n",
      " 27  Weather.Condition       84397 non-null  object \n",
      " 28  Broad.phase.of.flight   61724 non-null  object \n",
      " 29  Report.Status           82508 non-null  object \n",
      " 30  Publication.Date        75118 non-null  object \n",
      "dtypes: float64(5), object(26)\n",
      "memory usage: 21.0+ MB\n"
     ]
    }
   ],
   "source": [
    "# What are the features (columns) of the data?\n",
    "\n",
    "df.info()"
   ]
  },
  {
   "cell_type": "code",
   "execution_count": 5,
   "metadata": {
    "scrolled": true
   },
   "outputs": [
    {
     "name": "stdout",
     "output_type": "stream",
     "text": [
      "Injury Severity column\n",
      "Probable Cause                                                                                                                                                                                                             61754\n",
      "Foreign                                                                                                                                                                                                                     1999\n",
      "<br /><br />                                                                                                                                                                                                                 167\n",
      "Factual                                                                                                                                                                                                                      145\n",
      "The pilot's failure to maintain directional control during the landing roll.                                                                                                                                                  56\n",
      "                                                                                                                                                                                                                           ...  \n",
      "The pilot's failure to maintain clearance from terrain while maneuvering during an aerial application flight.                                                                                                                  1\n",
      "The pilot's failure to maintain directional control of the airplane during the landing. \\r                                                                                                                                     1\n",
      "The pilot's failure to maintain clearance from power lines during a low-level aerial observation flight. Contributing to the accident was pilot's failure to review a route hazards map prior to initiating the flight.        1\n",
      "The pilot's inadvertent retraction of the landing gear during the landing.                                                                                                                                                     1\n",
      "The student pilot did not maintain directional control while practicing a soft-field takeoff.                                                                                                                                  1\n",
      "Name: Report.Status, Length: 17075, dtype: int64\n",
      "Index(['Probable Cause', 'Foreign', '<br /><br />', 'Factual',\n",
      "       'The pilot's failure to maintain directional control during the landing roll.',\n",
      "       'A loss of engine power for undetermined reasons.',\n",
      "       'The pilot's failure to maintain directional control during landing.',\n",
      "       'A total loss of engine power for undetermined reasons.',\n",
      "       'The loss of engine power for undetermined reasons.',\n",
      "       'The pilots failure to maintain directional control during the landing roll.\\r\\n\\r',\n",
      "       ...\n",
      "       'The pilot's failure to apply carburetor heat, which resulted in the formation of carburetor icing and a total loss of engine power.',\n",
      "       'The inadequate preflight inspection by both pilots, resulting in a loss of engine power due to fuel exhaustion. Contributing to the accident was the disconnected fuel tank sending unit.',\n",
      "       'The pilot's improper reduction of the fuel mixture while the airplane was descending on the final leg of the traffic pattern, which resulted in a total loss of engine power and subsequent aerodynamic stall.\\r',\n",
      "       'The pilot's failure to maintain clearance from trees during a go-around. Contributing to the accident were the pilot inadvertently allowing the airplane to porpoise during the landing flare, and the presence of a tailwind.',\n",
      "       'The flight instructor's failure to maintain helicopter control while hovering, which resulted in skid contact with the ground and a dynamic roll-over.',\n",
      "       'The pilot's failure to maintain clearance from terrain while maneuvering during an aerial application flight.',\n",
      "       'The pilot's failure to maintain directional control of the airplane during the landing. \\r',\n",
      "       'The pilot's failure to maintain clearance from power lines during a low-level aerial observation flight. Contributing to the accident was pilot's failure to review a route hazards map prior to initiating the flight.',\n",
      "       'The pilot's inadvertent retraction of the landing gear during the landing.',\n",
      "       'The student pilot did not maintain directional control while practicing a soft-field takeoff.'],\n",
      "      dtype='object', length=17075)\n",
      "\n",
      "\n"
     ]
    }
   ],
   "source": [
    "# Need to get a closer look at the data, make sure there aren't any errors in the namings\n",
    "\n",
    "# There already is a problem in the weather condition column\n",
    "# print(\"Weather condition column\")\n",
    "# print(df['Weather.Condition'].value_counts())\n",
    "# print()\n",
    "print(\"Injury Severity column\")\n",
    "print(df['Report.Status'].value_counts())\n",
    "print(df['Report.Status'].value_counts().index)\n",
    "print()\n",
    "\n",
    "\n",
    "# print(\"Total.Fatal.Injuries\")\n",
    "# print(df['Total.Fatal.Injuries'].value_counts().index)\n",
    "# print()\n",
    "\n",
    "# print(\"Total.Serious.Injuries\")\n",
    "# print(df['Total.Serious.Injuries'].value_counts().index)\n",
    "# print()\n",
    "\n",
    "# print(\"Total.Minor.Injuries \")\n",
    "# print(df['Total.Minor.Injuries'].value_counts().index)\n",
    "# print()\n",
    "\n",
    "# print(\"Total.Uninjured\")\n",
    "# print(df['Total.Uninjured'].value_counts().index)\n",
    "# print()\n",
    "\n",
    "\n",
    "# print(\"Aircraft.damage\")\n",
    "# print(df['Aircraft.damage'].value_counts().index)\n",
    "# print()\n",
    "# print(\"value counts\")\n",
    "# print()\n",
    "# print(df['Aircraft.damage'].value_counts())\n",
    "# print()\n",
    "# print(df['Aircraft.damage'].unique)\n",
    "# print()\n",
    "# print(\"total nans\")\n",
    "# print()\n",
    "# print(df['Aircraft.damage'].isna().sum())\n",
    "\n",
    "print()\n",
    "#df_clean['Injury.Severity']"
   ]
  },
  {
   "cell_type": "markdown",
   "metadata": {},
   "source": [
    "#### It looks like there is a problem with the inputs in this column.\n",
    "\n",
    "So we're given the status of the injury (it's severity), and then if it was fatal, how many fatalities there were\n",
    "\n",
    "**How to deal with this\n",
    "\n",
    "2 ways:\n",
    "\n",
    "1. split the data and then glue it back together.\n",
    "2. Parse the field and get out the data we need"
   ]
  },
  {
   "cell_type": "code",
   "execution_count": 6,
   "metadata": {},
   "outputs": [
    {
     "data": {
      "text/plain": [
       "<bound method Series.unique of 0        UNK\n",
       "1        UNK\n",
       "2        IMC\n",
       "3        IMC\n",
       "4        VMC\n",
       "        ... \n",
       "88884    NaN\n",
       "88885    NaN\n",
       "88886    VMC\n",
       "88887    NaN\n",
       "88888    NaN\n",
       "Name: Weather.Condition, Length: 88889, dtype: object>"
      ]
     },
     "execution_count": 6,
     "metadata": {},
     "output_type": "execute_result"
    }
   ],
   "source": [
    "df['Weather.Condition'].value_counts()\n",
    "df['Weather.Condition'].unique"
   ]
  },
  {
   "cell_type": "code",
   "execution_count": 7,
   "metadata": {
    "scrolled": true
   },
   "outputs": [
    {
     "name": "stdout",
     "output_type": "stream",
     "text": [
      "Take a look at the first 5\n",
      "         Event.Id Investigation.Type Accident.Number  Event.Date  \\\n",
      "0  20001218X45444           Accident      SEA87LA080  1948-10-24   \n",
      "1  20001218X45447           Accident      LAX94LA336  1962-07-19   \n",
      "2  20061025X01555           Accident      NYC07LA005  1974-08-30   \n",
      "3  20001218X45448           Accident      LAX96LA321  1977-06-19   \n",
      "4  20041105X01764           Accident      CHI79FA064  1979-08-02   \n",
      "\n",
      "          Location        Country   Latitude   Longitude Airport.Code  \\\n",
      "0  MOOSE CREEK, ID  United States        NaN         NaN          NaN   \n",
      "1   BRIDGEPORT, CA  United States        NaN         NaN          NaN   \n",
      "2    Saltville, VA  United States  36.922223  -81.878056          NaN   \n",
      "3       EUREKA, CA  United States        NaN         NaN          NaN   \n",
      "4       Canton, OH  United States        NaN         NaN          NaN   \n",
      "\n",
      "  Airport.Name  ... Purpose.of.flight Air.carrier Total.Fatal.Injuries  \\\n",
      "0          NaN  ...          Personal         NaN                  2.0   \n",
      "1          NaN  ...          Personal         NaN                  4.0   \n",
      "2          NaN  ...          Personal         NaN                  3.0   \n",
      "3          NaN  ...          Personal         NaN                  2.0   \n",
      "4          NaN  ...          Personal         NaN                  1.0   \n",
      "\n",
      "  Total.Serious.Injuries Total.Minor.Injuries Total.Uninjured  \\\n",
      "0                    0.0                  0.0             0.0   \n",
      "1                    0.0                  0.0             0.0   \n",
      "2                    NaN                  NaN             NaN   \n",
      "3                    0.0                  0.0             0.0   \n",
      "4                    2.0                  NaN             0.0   \n",
      "\n",
      "  Weather.Condition  Broad.phase.of.flight   Report.Status Publication.Date  \n",
      "0               UNK                 Cruise  Probable Cause              NaN  \n",
      "1               UNK                Unknown  Probable Cause       19-09-1996  \n",
      "2               IMC                 Cruise  Probable Cause       26-02-2007  \n",
      "3               IMC                 Cruise  Probable Cause       12-09-2000  \n",
      "4               VMC               Approach  Probable Cause       16-04-1980  \n",
      "\n",
      "[5 rows x 31 columns]\n",
      "\n",
      "What's the dimensions of the matrix?\n",
      "(88889, 31)\n",
      "\n",
      "Take a look at some statistics\n",
      "       Number.of.Engines  Total.Fatal.Injuries  Total.Serious.Injuries  \\\n",
      "count       82805.000000          77488.000000            76379.000000   \n",
      "mean            1.146585              0.647855                0.279881   \n",
      "std             0.446510              5.485960                1.544084   \n",
      "min             0.000000              0.000000                0.000000   \n",
      "25%             1.000000              0.000000                0.000000   \n",
      "50%             1.000000              0.000000                0.000000   \n",
      "75%             1.000000              0.000000                0.000000   \n",
      "max             8.000000            349.000000              161.000000   \n",
      "\n",
      "       Total.Minor.Injuries  Total.Uninjured  \n",
      "count          76956.000000     82977.000000  \n",
      "mean               0.357061         5.325440  \n",
      "std                2.235625        27.913634  \n",
      "min                0.000000         0.000000  \n",
      "25%                0.000000         0.000000  \n",
      "50%                0.000000         1.000000  \n",
      "75%                0.000000         2.000000  \n",
      "max              380.000000       699.000000  \n",
      "\n"
     ]
    }
   ],
   "source": [
    "# Poke around inside the data\n",
    "\n",
    "# Take a look at the first 5\n",
    "print(\"Take a look at the first 5\")\n",
    "print(df.head())\n",
    "print()\n",
    "\n",
    "# What are the dimensions of the matrix?\n",
    "print(\"What's the dimensions of the matrix?\")\n",
    "print(df.shape)\n",
    "print()\n",
    "\n",
    "print(\"Take a look at some statistics\")\n",
    "print(df.describe())\n",
    "print()\n",
    "\n"
   ]
  },
  {
   "cell_type": "code",
   "execution_count": 8,
   "metadata": {
    "scrolled": true
   },
   "outputs": [
    {
     "name": "stdout",
     "output_type": "stream",
     "text": [
      "<class 'pandas.core.frame.DataFrame'>\n",
      "RangeIndex: 88889 entries, 0 to 88888\n",
      "Data columns (total 31 columns):\n",
      " #   Column                  Non-Null Count  Dtype  \n",
      "---  ------                  --------------  -----  \n",
      " 0   Event.Id                88889 non-null  object \n",
      " 1   Investigation.Type      88889 non-null  object \n",
      " 2   Accident.Number         88889 non-null  object \n",
      " 3   Event.Date              88889 non-null  object \n",
      " 4   Location                88837 non-null  object \n",
      " 5   Country                 88663 non-null  object \n",
      " 6   Latitude                34382 non-null  object \n",
      " 7   Longitude               34373 non-null  object \n",
      " 8   Airport.Code            50249 non-null  object \n",
      " 9   Airport.Name            52790 non-null  object \n",
      " 10  Injury.Severity         87889 non-null  object \n",
      " 11  Aircraft.damage         85695 non-null  object \n",
      " 12  Aircraft.Category       32287 non-null  object \n",
      " 13  Registration.Number     87572 non-null  object \n",
      " 14  Make                    88826 non-null  object \n",
      " 15  Model                   88797 non-null  object \n",
      " 16  Amateur.Built           88787 non-null  object \n",
      " 17  Number.of.Engines       82805 non-null  float64\n",
      " 18  Engine.Type             81812 non-null  object \n",
      " 19  FAR.Description         32023 non-null  object \n",
      " 20  Schedule                12582 non-null  object \n",
      " 21  Purpose.of.flight       82697 non-null  object \n",
      " 22  Air.carrier             16648 non-null  object \n",
      " 23  Total.Fatal.Injuries    77488 non-null  float64\n",
      " 24  Total.Serious.Injuries  76379 non-null  float64\n",
      " 25  Total.Minor.Injuries    76956 non-null  float64\n",
      " 26  Total.Uninjured         82977 non-null  float64\n",
      " 27  Weather.Condition       84397 non-null  object \n",
      " 28  Broad.phase.of.flight   61724 non-null  object \n",
      " 29  Report.Status           82508 non-null  object \n",
      " 30  Publication.Date        75118 non-null  object \n",
      "dtypes: float64(5), object(26)\n",
      "memory usage: 21.0+ MB\n"
     ]
    }
   ],
   "source": [
    "# Check it out with the info command\n",
    "df.info()"
   ]
  },
  {
   "cell_type": "code",
   "execution_count": 9,
   "metadata": {},
   "outputs": [
    {
     "data": {
      "text/plain": [
       "Event.Id                      0\n",
       "Investigation.Type            0\n",
       "Accident.Number               0\n",
       "Event.Date                    0\n",
       "Location                     52\n",
       "Country                     226\n",
       "Latitude                  54507\n",
       "Longitude                 54516\n",
       "Airport.Code              38640\n",
       "Airport.Name              36099\n",
       "Injury.Severity            1000\n",
       "Aircraft.damage            3194\n",
       "Aircraft.Category         56602\n",
       "Registration.Number        1317\n",
       "Make                         63\n",
       "Model                        92\n",
       "Amateur.Built               102\n",
       "Number.of.Engines          6084\n",
       "Engine.Type                7077\n",
       "FAR.Description           56866\n",
       "Schedule                  76307\n",
       "Purpose.of.flight          6192\n",
       "Air.carrier               72241\n",
       "Total.Fatal.Injuries      11401\n",
       "Total.Serious.Injuries    12510\n",
       "Total.Minor.Injuries      11933\n",
       "Total.Uninjured            5912\n",
       "Weather.Condition          4492\n",
       "Broad.phase.of.flight     27165\n",
       "Report.Status              6381\n",
       "Publication.Date          13771\n",
       "dtype: int64"
      ]
     },
     "execution_count": 9,
     "metadata": {},
     "output_type": "execute_result"
    }
   ],
   "source": [
    "# Now let's check out how many NaN's there are\n",
    "\n",
    "df.isna().sum()"
   ]
  },
  {
   "cell_type": "markdown",
   "metadata": {},
   "source": [
    "# Cleaning The Data\n",
    "\n",
    "One idea is to take the four rows:\\\n",
    "Total.Fatal.Injuries\\\n",
    "Total.Serious.Injuries\\\n",
    "Total.Minor.Injuries\\\n",
    "Total.Uninjured\n",
    "\n",
    "And fill in the NaN's with the median of the data to deal with them.\n",
    "\n",
    "And then once that is done, compare the median with the original median to make sure nothing has been changed."
   ]
  },
  {
   "cell_type": "markdown",
   "metadata": {},
   "source": [
    "## Handling the NaN's for the make and model columns\n",
    "\n",
    "We are going to drop the rows for the missing make and model values\n",
    "This is because we can't get any useful data from these if we don't know the make and the model!"
   ]
  },
  {
   "cell_type": "code",
   "execution_count": 10,
   "metadata": {},
   "outputs": [
    {
     "data": {
      "text/html": [
       "<div>\n",
       "<style scoped>\n",
       "    .dataframe tbody tr th:only-of-type {\n",
       "        vertical-align: middle;\n",
       "    }\n",
       "\n",
       "    .dataframe tbody tr th {\n",
       "        vertical-align: top;\n",
       "    }\n",
       "\n",
       "    .dataframe thead th {\n",
       "        text-align: right;\n",
       "    }\n",
       "</style>\n",
       "<table border=\"1\" class=\"dataframe\">\n",
       "  <thead>\n",
       "    <tr style=\"text-align: right;\">\n",
       "      <th></th>\n",
       "      <th>Event.Id</th>\n",
       "      <th>Investigation.Type</th>\n",
       "      <th>Accident.Number</th>\n",
       "      <th>Event.Date</th>\n",
       "      <th>Location</th>\n",
       "      <th>Country</th>\n",
       "      <th>Latitude</th>\n",
       "      <th>Longitude</th>\n",
       "      <th>Airport.Code</th>\n",
       "      <th>Airport.Name</th>\n",
       "      <th>...</th>\n",
       "      <th>Purpose.of.flight</th>\n",
       "      <th>Air.carrier</th>\n",
       "      <th>Total.Fatal.Injuries</th>\n",
       "      <th>Total.Serious.Injuries</th>\n",
       "      <th>Total.Minor.Injuries</th>\n",
       "      <th>Total.Uninjured</th>\n",
       "      <th>Weather.Condition</th>\n",
       "      <th>Broad.phase.of.flight</th>\n",
       "      <th>Report.Status</th>\n",
       "      <th>Publication.Date</th>\n",
       "    </tr>\n",
       "  </thead>\n",
       "  <tbody>\n",
       "    <tr>\n",
       "      <th>0</th>\n",
       "      <td>20001218X45444</td>\n",
       "      <td>Accident</td>\n",
       "      <td>SEA87LA080</td>\n",
       "      <td>1948-10-24</td>\n",
       "      <td>MOOSE CREEK, ID</td>\n",
       "      <td>United States</td>\n",
       "      <td>NaN</td>\n",
       "      <td>NaN</td>\n",
       "      <td>NaN</td>\n",
       "      <td>NaN</td>\n",
       "      <td>...</td>\n",
       "      <td>Personal</td>\n",
       "      <td>NaN</td>\n",
       "      <td>2.0</td>\n",
       "      <td>0.0</td>\n",
       "      <td>0.0</td>\n",
       "      <td>0.0</td>\n",
       "      <td>UNK</td>\n",
       "      <td>Cruise</td>\n",
       "      <td>Probable Cause</td>\n",
       "      <td>NaN</td>\n",
       "    </tr>\n",
       "    <tr>\n",
       "      <th>1</th>\n",
       "      <td>20001218X45447</td>\n",
       "      <td>Accident</td>\n",
       "      <td>LAX94LA336</td>\n",
       "      <td>1962-07-19</td>\n",
       "      <td>BRIDGEPORT, CA</td>\n",
       "      <td>United States</td>\n",
       "      <td>NaN</td>\n",
       "      <td>NaN</td>\n",
       "      <td>NaN</td>\n",
       "      <td>NaN</td>\n",
       "      <td>...</td>\n",
       "      <td>Personal</td>\n",
       "      <td>NaN</td>\n",
       "      <td>4.0</td>\n",
       "      <td>0.0</td>\n",
       "      <td>0.0</td>\n",
       "      <td>0.0</td>\n",
       "      <td>UNK</td>\n",
       "      <td>Unknown</td>\n",
       "      <td>Probable Cause</td>\n",
       "      <td>19-09-1996</td>\n",
       "    </tr>\n",
       "    <tr>\n",
       "      <th>2</th>\n",
       "      <td>20061025X01555</td>\n",
       "      <td>Accident</td>\n",
       "      <td>NYC07LA005</td>\n",
       "      <td>1974-08-30</td>\n",
       "      <td>Saltville, VA</td>\n",
       "      <td>United States</td>\n",
       "      <td>36.922223</td>\n",
       "      <td>-81.878056</td>\n",
       "      <td>NaN</td>\n",
       "      <td>NaN</td>\n",
       "      <td>...</td>\n",
       "      <td>Personal</td>\n",
       "      <td>NaN</td>\n",
       "      <td>3.0</td>\n",
       "      <td>NaN</td>\n",
       "      <td>NaN</td>\n",
       "      <td>NaN</td>\n",
       "      <td>IMC</td>\n",
       "      <td>Cruise</td>\n",
       "      <td>Probable Cause</td>\n",
       "      <td>26-02-2007</td>\n",
       "    </tr>\n",
       "    <tr>\n",
       "      <th>3</th>\n",
       "      <td>20001218X45448</td>\n",
       "      <td>Accident</td>\n",
       "      <td>LAX96LA321</td>\n",
       "      <td>1977-06-19</td>\n",
       "      <td>EUREKA, CA</td>\n",
       "      <td>United States</td>\n",
       "      <td>NaN</td>\n",
       "      <td>NaN</td>\n",
       "      <td>NaN</td>\n",
       "      <td>NaN</td>\n",
       "      <td>...</td>\n",
       "      <td>Personal</td>\n",
       "      <td>NaN</td>\n",
       "      <td>2.0</td>\n",
       "      <td>0.0</td>\n",
       "      <td>0.0</td>\n",
       "      <td>0.0</td>\n",
       "      <td>IMC</td>\n",
       "      <td>Cruise</td>\n",
       "      <td>Probable Cause</td>\n",
       "      <td>12-09-2000</td>\n",
       "    </tr>\n",
       "    <tr>\n",
       "      <th>4</th>\n",
       "      <td>20041105X01764</td>\n",
       "      <td>Accident</td>\n",
       "      <td>CHI79FA064</td>\n",
       "      <td>1979-08-02</td>\n",
       "      <td>Canton, OH</td>\n",
       "      <td>United States</td>\n",
       "      <td>NaN</td>\n",
       "      <td>NaN</td>\n",
       "      <td>NaN</td>\n",
       "      <td>NaN</td>\n",
       "      <td>...</td>\n",
       "      <td>Personal</td>\n",
       "      <td>NaN</td>\n",
       "      <td>1.0</td>\n",
       "      <td>2.0</td>\n",
       "      <td>NaN</td>\n",
       "      <td>0.0</td>\n",
       "      <td>VMC</td>\n",
       "      <td>Approach</td>\n",
       "      <td>Probable Cause</td>\n",
       "      <td>16-04-1980</td>\n",
       "    </tr>\n",
       "    <tr>\n",
       "      <th>...</th>\n",
       "      <td>...</td>\n",
       "      <td>...</td>\n",
       "      <td>...</td>\n",
       "      <td>...</td>\n",
       "      <td>...</td>\n",
       "      <td>...</td>\n",
       "      <td>...</td>\n",
       "      <td>...</td>\n",
       "      <td>...</td>\n",
       "      <td>...</td>\n",
       "      <td>...</td>\n",
       "      <td>...</td>\n",
       "      <td>...</td>\n",
       "      <td>...</td>\n",
       "      <td>...</td>\n",
       "      <td>...</td>\n",
       "      <td>...</td>\n",
       "      <td>...</td>\n",
       "      <td>...</td>\n",
       "      <td>...</td>\n",
       "      <td>...</td>\n",
       "    </tr>\n",
       "    <tr>\n",
       "      <th>88884</th>\n",
       "      <td>20221227106491</td>\n",
       "      <td>Accident</td>\n",
       "      <td>ERA23LA093</td>\n",
       "      <td>2022-12-26</td>\n",
       "      <td>Annapolis, MD</td>\n",
       "      <td>United States</td>\n",
       "      <td>NaN</td>\n",
       "      <td>NaN</td>\n",
       "      <td>NaN</td>\n",
       "      <td>NaN</td>\n",
       "      <td>...</td>\n",
       "      <td>Personal</td>\n",
       "      <td>NaN</td>\n",
       "      <td>0.0</td>\n",
       "      <td>1.0</td>\n",
       "      <td>0.0</td>\n",
       "      <td>0.0</td>\n",
       "      <td>NaN</td>\n",
       "      <td>NaN</td>\n",
       "      <td>NaN</td>\n",
       "      <td>29-12-2022</td>\n",
       "    </tr>\n",
       "    <tr>\n",
       "      <th>88885</th>\n",
       "      <td>20221227106494</td>\n",
       "      <td>Accident</td>\n",
       "      <td>ERA23LA095</td>\n",
       "      <td>2022-12-26</td>\n",
       "      <td>Hampton, NH</td>\n",
       "      <td>United States</td>\n",
       "      <td>NaN</td>\n",
       "      <td>NaN</td>\n",
       "      <td>NaN</td>\n",
       "      <td>NaN</td>\n",
       "      <td>...</td>\n",
       "      <td>NaN</td>\n",
       "      <td>NaN</td>\n",
       "      <td>0.0</td>\n",
       "      <td>0.0</td>\n",
       "      <td>0.0</td>\n",
       "      <td>0.0</td>\n",
       "      <td>NaN</td>\n",
       "      <td>NaN</td>\n",
       "      <td>NaN</td>\n",
       "      <td>NaN</td>\n",
       "    </tr>\n",
       "    <tr>\n",
       "      <th>88886</th>\n",
       "      <td>20221227106497</td>\n",
       "      <td>Accident</td>\n",
       "      <td>WPR23LA075</td>\n",
       "      <td>2022-12-26</td>\n",
       "      <td>Payson, AZ</td>\n",
       "      <td>United States</td>\n",
       "      <td>341525N</td>\n",
       "      <td>1112021W</td>\n",
       "      <td>PAN</td>\n",
       "      <td>PAYSON</td>\n",
       "      <td>...</td>\n",
       "      <td>Personal</td>\n",
       "      <td>NaN</td>\n",
       "      <td>0.0</td>\n",
       "      <td>0.0</td>\n",
       "      <td>0.0</td>\n",
       "      <td>1.0</td>\n",
       "      <td>VMC</td>\n",
       "      <td>NaN</td>\n",
       "      <td>NaN</td>\n",
       "      <td>27-12-2022</td>\n",
       "    </tr>\n",
       "    <tr>\n",
       "      <th>88887</th>\n",
       "      <td>20221227106498</td>\n",
       "      <td>Accident</td>\n",
       "      <td>WPR23LA076</td>\n",
       "      <td>2022-12-26</td>\n",
       "      <td>Morgan, UT</td>\n",
       "      <td>United States</td>\n",
       "      <td>NaN</td>\n",
       "      <td>NaN</td>\n",
       "      <td>NaN</td>\n",
       "      <td>NaN</td>\n",
       "      <td>...</td>\n",
       "      <td>Personal</td>\n",
       "      <td>MC CESSNA 210N LLC</td>\n",
       "      <td>0.0</td>\n",
       "      <td>0.0</td>\n",
       "      <td>0.0</td>\n",
       "      <td>0.0</td>\n",
       "      <td>NaN</td>\n",
       "      <td>NaN</td>\n",
       "      <td>NaN</td>\n",
       "      <td>NaN</td>\n",
       "    </tr>\n",
       "    <tr>\n",
       "      <th>88888</th>\n",
       "      <td>20221230106513</td>\n",
       "      <td>Accident</td>\n",
       "      <td>ERA23LA097</td>\n",
       "      <td>2022-12-29</td>\n",
       "      <td>Athens, GA</td>\n",
       "      <td>United States</td>\n",
       "      <td>NaN</td>\n",
       "      <td>NaN</td>\n",
       "      <td>NaN</td>\n",
       "      <td>NaN</td>\n",
       "      <td>...</td>\n",
       "      <td>Personal</td>\n",
       "      <td>NaN</td>\n",
       "      <td>0.0</td>\n",
       "      <td>1.0</td>\n",
       "      <td>0.0</td>\n",
       "      <td>1.0</td>\n",
       "      <td>NaN</td>\n",
       "      <td>NaN</td>\n",
       "      <td>NaN</td>\n",
       "      <td>30-12-2022</td>\n",
       "    </tr>\n",
       "  </tbody>\n",
       "</table>\n",
       "<p>88889 rows × 31 columns</p>\n",
       "</div>"
      ],
      "text/plain": [
       "             Event.Id Investigation.Type Accident.Number  Event.Date  \\\n",
       "0      20001218X45444           Accident      SEA87LA080  1948-10-24   \n",
       "1      20001218X45447           Accident      LAX94LA336  1962-07-19   \n",
       "2      20061025X01555           Accident      NYC07LA005  1974-08-30   \n",
       "3      20001218X45448           Accident      LAX96LA321  1977-06-19   \n",
       "4      20041105X01764           Accident      CHI79FA064  1979-08-02   \n",
       "...               ...                ...             ...         ...   \n",
       "88884  20221227106491           Accident      ERA23LA093  2022-12-26   \n",
       "88885  20221227106494           Accident      ERA23LA095  2022-12-26   \n",
       "88886  20221227106497           Accident      WPR23LA075  2022-12-26   \n",
       "88887  20221227106498           Accident      WPR23LA076  2022-12-26   \n",
       "88888  20221230106513           Accident      ERA23LA097  2022-12-29   \n",
       "\n",
       "              Location        Country   Latitude   Longitude Airport.Code  \\\n",
       "0      MOOSE CREEK, ID  United States        NaN         NaN          NaN   \n",
       "1       BRIDGEPORT, CA  United States        NaN         NaN          NaN   \n",
       "2        Saltville, VA  United States  36.922223  -81.878056          NaN   \n",
       "3           EUREKA, CA  United States        NaN         NaN          NaN   \n",
       "4           Canton, OH  United States        NaN         NaN          NaN   \n",
       "...                ...            ...        ...         ...          ...   \n",
       "88884    Annapolis, MD  United States        NaN         NaN          NaN   \n",
       "88885      Hampton, NH  United States        NaN         NaN          NaN   \n",
       "88886       Payson, AZ  United States    341525N    1112021W          PAN   \n",
       "88887       Morgan, UT  United States        NaN         NaN          NaN   \n",
       "88888       Athens, GA  United States        NaN         NaN          NaN   \n",
       "\n",
       "      Airport.Name  ... Purpose.of.flight         Air.carrier  \\\n",
       "0              NaN  ...          Personal                 NaN   \n",
       "1              NaN  ...          Personal                 NaN   \n",
       "2              NaN  ...          Personal                 NaN   \n",
       "3              NaN  ...          Personal                 NaN   \n",
       "4              NaN  ...          Personal                 NaN   \n",
       "...            ...  ...               ...                 ...   \n",
       "88884          NaN  ...          Personal                 NaN   \n",
       "88885          NaN  ...               NaN                 NaN   \n",
       "88886       PAYSON  ...          Personal                 NaN   \n",
       "88887          NaN  ...          Personal  MC CESSNA 210N LLC   \n",
       "88888          NaN  ...          Personal                 NaN   \n",
       "\n",
       "      Total.Fatal.Injuries Total.Serious.Injuries Total.Minor.Injuries  \\\n",
       "0                      2.0                    0.0                  0.0   \n",
       "1                      4.0                    0.0                  0.0   \n",
       "2                      3.0                    NaN                  NaN   \n",
       "3                      2.0                    0.0                  0.0   \n",
       "4                      1.0                    2.0                  NaN   \n",
       "...                    ...                    ...                  ...   \n",
       "88884                  0.0                    1.0                  0.0   \n",
       "88885                  0.0                    0.0                  0.0   \n",
       "88886                  0.0                    0.0                  0.0   \n",
       "88887                  0.0                    0.0                  0.0   \n",
       "88888                  0.0                    1.0                  0.0   \n",
       "\n",
       "      Total.Uninjured Weather.Condition  Broad.phase.of.flight  \\\n",
       "0                 0.0               UNK                 Cruise   \n",
       "1                 0.0               UNK                Unknown   \n",
       "2                 NaN               IMC                 Cruise   \n",
       "3                 0.0               IMC                 Cruise   \n",
       "4                 0.0               VMC               Approach   \n",
       "...               ...               ...                    ...   \n",
       "88884             0.0               NaN                    NaN   \n",
       "88885             0.0               NaN                    NaN   \n",
       "88886             1.0               VMC                    NaN   \n",
       "88887             0.0               NaN                    NaN   \n",
       "88888             1.0               NaN                    NaN   \n",
       "\n",
       "        Report.Status Publication.Date  \n",
       "0      Probable Cause              NaN  \n",
       "1      Probable Cause       19-09-1996  \n",
       "2      Probable Cause       26-02-2007  \n",
       "3      Probable Cause       12-09-2000  \n",
       "4      Probable Cause       16-04-1980  \n",
       "...               ...              ...  \n",
       "88884             NaN       29-12-2022  \n",
       "88885             NaN              NaN  \n",
       "88886             NaN       27-12-2022  \n",
       "88887             NaN              NaN  \n",
       "88888             NaN       30-12-2022  \n",
       "\n",
       "[88889 rows x 31 columns]"
      ]
     },
     "execution_count": 10,
     "metadata": {},
     "output_type": "execute_result"
    }
   ],
   "source": [
    "# First make a copy of the original data\n",
    "df_clean = df.copy()\n",
    "df_clean"
   ]
  },
  {
   "cell_type": "markdown",
   "metadata": {},
   "source": [
    "### Drop the missing values from the Make and Model columns"
   ]
  },
  {
   "cell_type": "code",
   "execution_count": 11,
   "metadata": {},
   "outputs": [],
   "source": [
    "df_clean = df_clean.dropna(subset=['Make', 'Model'])"
   ]
  },
  {
   "cell_type": "markdown",
   "metadata": {},
   "source": [
    "Take a look and see if it worked.\n"
   ]
  },
  {
   "cell_type": "code",
   "execution_count": 12,
   "metadata": {},
   "outputs": [
    {
     "data": {
      "text/plain": [
       "Event.Id                      0\n",
       "Investigation.Type            0\n",
       "Accident.Number               0\n",
       "Event.Date                    0\n",
       "Location                     52\n",
       "Country                     225\n",
       "Latitude                  54430\n",
       "Longitude                 54439\n",
       "Airport.Code              38564\n",
       "Airport.Name              36031\n",
       "Injury.Severity             979\n",
       "Aircraft.damage            3172\n",
       "Aircraft.Category         56532\n",
       "Registration.Number        1275\n",
       "Make                          0\n",
       "Model                         0\n",
       "Amateur.Built                99\n",
       "Number.of.Engines          6023\n",
       "Engine.Type                7006\n",
       "FAR.Description           56841\n",
       "Schedule                  76245\n",
       "Purpose.of.flight          6138\n",
       "Air.carrier               72168\n",
       "Total.Fatal.Injuries      11386\n",
       "Total.Serious.Injuries    12490\n",
       "Total.Minor.Injuries      11914\n",
       "Total.Uninjured            5897\n",
       "Weather.Condition          4439\n",
       "Broad.phase.of.flight     27094\n",
       "Report.Status              6335\n",
       "Publication.Date          13765\n",
       "dtype: int64"
      ]
     },
     "execution_count": 12,
     "metadata": {},
     "output_type": "execute_result"
    }
   ],
   "source": [
    "df_clean.isna().sum()"
   ]
  },
  {
   "cell_type": "markdown",
   "metadata": {},
   "source": [
    "## Let's also convert the name of the columns to something nicer"
   ]
  },
  {
   "cell_type": "code",
   "execution_count": 13,
   "metadata": {},
   "outputs": [],
   "source": [
    "df_clean.columns = df_clean.columns.str.strip().str.lower().str.replace('.', '_')"
   ]
  },
  {
   "cell_type": "markdown",
   "metadata": {},
   "source": [
    "### Compare the two"
   ]
  },
  {
   "cell_type": "code",
   "execution_count": 14,
   "metadata": {
    "scrolled": true
   },
   "outputs": [
    {
     "name": "stdout",
     "output_type": "stream",
     "text": [
      "This is the original dataframe\n",
      "\n",
      "<class 'pandas.core.frame.DataFrame'>\n",
      "RangeIndex: 88889 entries, 0 to 88888\n",
      "Data columns (total 31 columns):\n",
      " #   Column                  Non-Null Count  Dtype  \n",
      "---  ------                  --------------  -----  \n",
      " 0   Event.Id                88889 non-null  object \n",
      " 1   Investigation.Type      88889 non-null  object \n",
      " 2   Accident.Number         88889 non-null  object \n",
      " 3   Event.Date              88889 non-null  object \n",
      " 4   Location                88837 non-null  object \n",
      " 5   Country                 88663 non-null  object \n",
      " 6   Latitude                34382 non-null  object \n",
      " 7   Longitude               34373 non-null  object \n",
      " 8   Airport.Code            50249 non-null  object \n",
      " 9   Airport.Name            52790 non-null  object \n",
      " 10  Injury.Severity         87889 non-null  object \n",
      " 11  Aircraft.damage         85695 non-null  object \n",
      " 12  Aircraft.Category       32287 non-null  object \n",
      " 13  Registration.Number     87572 non-null  object \n",
      " 14  Make                    88826 non-null  object \n",
      " 15  Model                   88797 non-null  object \n",
      " 16  Amateur.Built           88787 non-null  object \n",
      " 17  Number.of.Engines       82805 non-null  float64\n",
      " 18  Engine.Type             81812 non-null  object \n",
      " 19  FAR.Description         32023 non-null  object \n",
      " 20  Schedule                12582 non-null  object \n",
      " 21  Purpose.of.flight       82697 non-null  object \n",
      " 22  Air.carrier             16648 non-null  object \n",
      " 23  Total.Fatal.Injuries    77488 non-null  float64\n",
      " 24  Total.Serious.Injuries  76379 non-null  float64\n",
      " 25  Total.Minor.Injuries    76956 non-null  float64\n",
      " 26  Total.Uninjured         82977 non-null  float64\n",
      " 27  Weather.Condition       84397 non-null  object \n",
      " 28  Broad.phase.of.flight   61724 non-null  object \n",
      " 29  Report.Status           82508 non-null  object \n",
      " 30  Publication.Date        75118 non-null  object \n",
      "dtypes: float64(5), object(26)\n",
      "memory usage: 21.0+ MB\n",
      "None\n",
      "\n",
      "This is the cleaned DataFrame\n",
      "\n",
      "<class 'pandas.core.frame.DataFrame'>\n",
      "Int64Index: 88777 entries, 0 to 88888\n",
      "Data columns (total 31 columns):\n",
      " #   Column                  Non-Null Count  Dtype  \n",
      "---  ------                  --------------  -----  \n",
      " 0   event_id                88777 non-null  object \n",
      " 1   investigation_type      88777 non-null  object \n",
      " 2   accident_number         88777 non-null  object \n",
      " 3   event_date              88777 non-null  object \n",
      " 4   location                88725 non-null  object \n",
      " 5   country                 88552 non-null  object \n",
      " 6   latitude                34347 non-null  object \n",
      " 7   longitude               34338 non-null  object \n",
      " 8   airport_code            50213 non-null  object \n",
      " 9   airport_name            52746 non-null  object \n",
      " 10  injury_severity         87798 non-null  object \n",
      " 11  aircraft_damage         85605 non-null  object \n",
      " 12  aircraft_category       32245 non-null  object \n",
      " 13  registration_number     87502 non-null  object \n",
      " 14  make                    88777 non-null  object \n",
      " 15  model                   88777 non-null  object \n",
      " 16  amateur_built           88678 non-null  object \n",
      " 17  number_of_engines       82754 non-null  float64\n",
      " 18  engine_type             81771 non-null  object \n",
      " 19  far_description         31936 non-null  object \n",
      " 20  schedule                12532 non-null  object \n",
      " 21  purpose_of_flight       82639 non-null  object \n",
      " 22  air_carrier             16609 non-null  object \n",
      " 23  total_fatal_injuries    77391 non-null  float64\n",
      " 24  total_serious_injuries  76287 non-null  float64\n",
      " 25  total_minor_injuries    76863 non-null  float64\n",
      " 26  total_uninjured         82880 non-null  float64\n",
      " 27  weather_condition       84338 non-null  object \n",
      " 28  broad_phase_of_flight   61683 non-null  object \n",
      " 29  report_status           82442 non-null  object \n",
      " 30  publication_date        75012 non-null  object \n",
      "dtypes: float64(5), object(26)\n",
      "memory usage: 21.7+ MB\n",
      "None\n",
      "\n"
     ]
    }
   ],
   "source": [
    "print(\"This is the original dataframe\")\n",
    "print()\n",
    "print(df.info())\n",
    "print()\n",
    "print(\"This is the cleaned DataFrame\")\n",
    "print()\n",
    "print(df_clean.info())\n",
    "print()"
   ]
  },
  {
   "cell_type": "markdown",
   "metadata": {},
   "source": [
    "### Handling the four rows\n",
    "\n",
    "One idea is to take the four rows:\\\n",
    "Total.Fatal.Injuries\\\n",
    "Total.Serious.Injuries\\\n",
    "Total.Minor.Injuries\\\n",
    "Total.Uninjured\n",
    "\n",
    "We instead looked at the excel document, noticed that the NaN's were supposed to be zeroes, and then filled in the missing values with zeroes."
   ]
  },
  {
   "cell_type": "code",
   "execution_count": 15,
   "metadata": {
    "scrolled": true
   },
   "outputs": [
    {
     "name": "stderr",
     "output_type": "stream",
     "text": [
      "/Users/jonniebrown/anaconda3/envs/learn-env/lib/python3.8/site-packages/pandas/core/series.py:4517: SettingWithCopyWarning: \n",
      "A value is trying to be set on a copy of a slice from a DataFrame\n",
      "\n",
      "See the caveats in the documentation: https://pandas.pydata.org/pandas-docs/stable/user_guide/indexing.html#returning-a-view-versus-a-copy\n",
      "  return super().fillna(\n"
     ]
    }
   ],
   "source": [
    "df_clean['total_fatal_injuries'].fillna(0, inplace=True)\n",
    "df_clean['total_serious_injuries'].fillna(0, inplace=True)\n",
    "df_clean['total_minor_injuries'].fillna(0, inplace=True)\n",
    "df_clean['total_uninjured'].fillna(0, inplace=True)\n",
    "\n"
   ]
  },
  {
   "cell_type": "markdown",
   "metadata": {},
   "source": [
    "Check and make sure the transforemation worked"
   ]
  },
  {
   "cell_type": "code",
   "execution_count": 16,
   "metadata": {
    "scrolled": true
   },
   "outputs": [
    {
     "name": "stdout",
     "output_type": "stream",
     "text": [
      "Checking the total fatal injuries column\n",
      "11401\n",
      "0\n",
      "Checking the total serious injuries column\n",
      "12510\n",
      "0\n",
      "Checking the total Minor injuries column\n",
      "11933\n",
      "0\n",
      "Checking the total Uninjured column\n",
      "5912\n",
      "0\n"
     ]
    },
    {
     "data": {
      "text/plain": [
       "0        0.0\n",
       "1        0.0\n",
       "2        0.0\n",
       "3        0.0\n",
       "4        0.0\n",
       "        ... \n",
       "88884    0.0\n",
       "88885    0.0\n",
       "88886    1.0\n",
       "88887    0.0\n",
       "88888    1.0\n",
       "Name: total_uninjured, Length: 88777, dtype: float64"
      ]
     },
     "execution_count": 16,
     "metadata": {},
     "output_type": "execute_result"
    }
   ],
   "source": [
    "print(\"Checking the total fatal injuries column\")\n",
    "print(df['Total.Fatal.Injuries'].isna().sum())\n",
    "print(df_clean['total_fatal_injuries'].isna().sum())\n",
    "\n",
    "print(\"Checking the total serious injuries column\")\n",
    "print(df['Total.Serious.Injuries'].isna().sum())\n",
    "print(df_clean['total_serious_injuries'].isna().sum())\n",
    "\n",
    "print(\"Checking the total Minor injuries column\")\n",
    "print(df['Total.Minor.Injuries'].isna().sum())\n",
    "print(df_clean['total_minor_injuries'].isna().sum())\n",
    "\n",
    "print(\"Checking the total Uninjured column\")\n",
    "print(df['Total.Uninjured'].isna().sum())\n",
    "print(df_clean['total_uninjured'].isna().sum())\n",
    "\n",
    "df_clean['total_uninjured']"
   ]
  },
  {
   "cell_type": "markdown",
   "metadata": {},
   "source": [
    "# Convert datetime from a string to a datetime object"
   ]
  },
  {
   "cell_type": "code",
   "execution_count": 17,
   "metadata": {
    "scrolled": true
   },
   "outputs": [
    {
     "name": "stderr",
     "output_type": "stream",
     "text": [
      "/Users/jonniebrown/anaconda3/envs/learn-env/lib/python3.8/site-packages/pandas/core/generic.py:5168: SettingWithCopyWarning: \n",
      "A value is trying to be set on a copy of a slice from a DataFrame.\n",
      "Try using .loc[row_indexer,col_indexer] = value instead\n",
      "\n",
      "See the caveats in the documentation: https://pandas.pydata.org/pandas-docs/stable/user_guide/indexing.html#returning-a-view-versus-a-copy\n",
      "  self[name] = value\n"
     ]
    }
   ],
   "source": [
    "df_clean.event_date = pd.to_datetime(df_clean[\"event_date\"], format=\"%Y-%m-%d\")"
   ]
  },
  {
   "cell_type": "markdown",
   "metadata": {},
   "source": [
    "Check and make sure that it worked"
   ]
  },
  {
   "cell_type": "code",
   "execution_count": 18,
   "metadata": {},
   "outputs": [
    {
     "data": {
      "text/plain": [
       "0       1948-10-24\n",
       "1       1962-07-19\n",
       "2       1974-08-30\n",
       "3       1977-06-19\n",
       "4       1979-08-02\n",
       "           ...    \n",
       "88884   2022-12-26\n",
       "88885   2022-12-26\n",
       "88886   2022-12-26\n",
       "88887   2022-12-26\n",
       "88888   2022-12-29\n",
       "Name: event_date, Length: 88777, dtype: datetime64[ns]"
      ]
     },
     "execution_count": 18,
     "metadata": {},
     "output_type": "execute_result"
    }
   ],
   "source": [
    "df_clean.event_date\n"
   ]
  },
  {
   "cell_type": "markdown",
   "metadata": {},
   "source": [
    "Now the values have been converted to a datetime object."
   ]
  },
  {
   "cell_type": "code",
   "execution_count": 19,
   "metadata": {
    "scrolled": true
   },
   "outputs": [
    {
     "name": "stdout",
     "output_type": "stream",
     "text": [
      "<class 'pandas.core.frame.DataFrame'>\n",
      "Int64Index: 88777 entries, 0 to 88888\n",
      "Data columns (total 31 columns):\n",
      " #   Column                  Non-Null Count  Dtype         \n",
      "---  ------                  --------------  -----         \n",
      " 0   event_id                88777 non-null  object        \n",
      " 1   investigation_type      88777 non-null  object        \n",
      " 2   accident_number         88777 non-null  object        \n",
      " 3   event_date              88777 non-null  datetime64[ns]\n",
      " 4   location                88725 non-null  object        \n",
      " 5   country                 88552 non-null  object        \n",
      " 6   latitude                34347 non-null  object        \n",
      " 7   longitude               34338 non-null  object        \n",
      " 8   airport_code            50213 non-null  object        \n",
      " 9   airport_name            52746 non-null  object        \n",
      " 10  injury_severity         87798 non-null  object        \n",
      " 11  aircraft_damage         85605 non-null  object        \n",
      " 12  aircraft_category       32245 non-null  object        \n",
      " 13  registration_number     87502 non-null  object        \n",
      " 14  make                    88777 non-null  object        \n",
      " 15  model                   88777 non-null  object        \n",
      " 16  amateur_built           88678 non-null  object        \n",
      " 17  number_of_engines       82754 non-null  float64       \n",
      " 18  engine_type             81771 non-null  object        \n",
      " 19  far_description         31936 non-null  object        \n",
      " 20  schedule                12532 non-null  object        \n",
      " 21  purpose_of_flight       82639 non-null  object        \n",
      " 22  air_carrier             16609 non-null  object        \n",
      " 23  total_fatal_injuries    88777 non-null  float64       \n",
      " 24  total_serious_injuries  88777 non-null  float64       \n",
      " 25  total_minor_injuries    88777 non-null  float64       \n",
      " 26  total_uninjured         88777 non-null  float64       \n",
      " 27  weather_condition       84338 non-null  object        \n",
      " 28  broad_phase_of_flight   61683 non-null  object        \n",
      " 29  report_status           82442 non-null  object        \n",
      " 30  publication_date        75012 non-null  object        \n",
      "dtypes: datetime64[ns](1), float64(5), object(25)\n",
      "memory usage: 21.7+ MB\n"
     ]
    }
   ],
   "source": [
    "df_clean.info()"
   ]
  },
  {
   "cell_type": "markdown",
   "metadata": {},
   "source": [
    "# Cleaning The Engines Column\n",
    "\n",
    "We are going to filter out all the NaN's from the engines column\n"
   ]
  },
  {
   "cell_type": "code",
   "execution_count": 20,
   "metadata": {
    "scrolled": true
   },
   "outputs": [
    {
     "ename": "NameError",
     "evalue": "name 'df_clean_airplanes' is not defined",
     "output_type": "error",
     "traceback": [
      "\u001b[0;31m---------------------------------------------------------------------------\u001b[0m",
      "\u001b[0;31mNameError\u001b[0m                                 Traceback (most recent call last)",
      "\u001b[0;32m<ipython-input-20-1e580cf3e33e>\u001b[0m in \u001b[0;36m<module>\u001b[0;34m\u001b[0m\n\u001b[1;32m      1\u001b[0m \u001b[0;31m# Looking at the entries with nulls\u001b[0m\u001b[0;34m\u001b[0m\u001b[0;34m\u001b[0m\u001b[0;34m\u001b[0m\u001b[0m\n\u001b[0;32m----> 2\u001b[0;31m \u001b[0mdf_clean_airplanes\u001b[0m\u001b[0;34m[\u001b[0m\u001b[0mdf_clean_airplanes\u001b[0m\u001b[0;34m[\u001b[0m\u001b[0;34m'number_of_engines'\u001b[0m\u001b[0;34m]\u001b[0m\u001b[0;34m.\u001b[0m\u001b[0misna\u001b[0m\u001b[0;34m(\u001b[0m\u001b[0;34m)\u001b[0m\u001b[0;34m]\u001b[0m\u001b[0;34m\u001b[0m\u001b[0;34m\u001b[0m\u001b[0m\n\u001b[0m",
      "\u001b[0;31mNameError\u001b[0m: name 'df_clean_airplanes' is not defined"
     ]
    }
   ],
   "source": [
    "# Looking at the entries with nulls\n",
    "df_clean_airplanes[df_clean_airplanes['number_of_engines'].isna()]"
   ]
  },
  {
   "cell_type": "code",
   "execution_count": 21,
   "metadata": {},
   "outputs": [
    {
     "name": "stderr",
     "output_type": "stream",
     "text": [
      "<ipython-input-21-43b379e53ea4>:3: SettingWithCopyWarning: \n",
      "A value is trying to be set on a copy of a slice from a DataFrame\n",
      "\n",
      "See the caveats in the documentation: https://pandas.pydata.org/pandas-docs/stable/user_guide/indexing.html#returning-a-view-versus-a-copy\n",
      "  df_clean.dropna(subset=['number_of_engines'], inplace=True)\n"
     ]
    },
    {
     "data": {
      "text/plain": [
       "0"
      ]
     },
     "execution_count": 21,
     "metadata": {},
     "output_type": "execute_result"
    }
   ],
   "source": [
    "# Drop the null values in number_of_engines\n",
    "# This is because we need to know the number of engines for the plane model\n",
    "df_clean.dropna(subset=['number_of_engines'], inplace=True)\n",
    "\n",
    "df_clean['number_of_engines'].isna().sum()"
   ]
  },
  {
   "cell_type": "markdown",
   "metadata": {},
   "source": [
    "# Filtering\n",
    "\n",
    "We are going to make two dataframes. \n",
    "\n",
    "One with only airplanes and one with only helicopters. "
   ]
  },
  {
   "cell_type": "markdown",
   "metadata": {},
   "source": [
    "### Categories of interest:\n",
    "    \n",
    "    Airplane\n",
    "    \n",
    "    Helicopter\n",
    "    \n",
    "**Difference between airplane for passengers and airplane for cargo**\n",
    "\n",
    "Differences - number of engines & engine type"
   ]
  },
  {
   "cell_type": "markdown",
   "metadata": {},
   "source": [
    "## Filtered to only airplanes"
   ]
  },
  {
   "cell_type": "code",
   "execution_count": 22,
   "metadata": {},
   "outputs": [
    {
     "data": {
      "text/plain": [
       "Airplane             24831\n",
       "Helicopter            2907\n",
       "Glider                 431\n",
       "Gyrocraft              168\n",
       "Balloon                166\n",
       "Weight-Shift           154\n",
       "Powered Parachute       87\n",
       "Ultralight              26\n",
       "WSFT                     9\n",
       "Blimp                    4\n",
       "Powered-Lift             4\n",
       "Unknown                  4\n",
       "ULTR                     1\n",
       "Rocket                   1\n",
       "Name: aircraft_category, dtype: int64"
      ]
     },
     "execution_count": 22,
     "metadata": {},
     "output_type": "execute_result"
    }
   ],
   "source": [
    "# What are the possible categories?\n",
    "df_clean['aircraft_category'].value_counts()"
   ]
  },
  {
   "cell_type": "code",
   "execution_count": null,
   "metadata": {
    "scrolled": false
   },
   "outputs": [],
   "source": [
    "df_clean_airplanes = df_clean.loc[df_clean['aircraft_category'] == 'Airplane']"
   ]
  },
  {
   "cell_type": "code",
   "execution_count": null,
   "metadata": {
    "scrolled": true
   },
   "outputs": [],
   "source": [
    "df_clean_airplanes.info()"
   ]
  },
  {
   "cell_type": "code",
   "execution_count": null,
   "metadata": {
    "scrolled": true
   },
   "outputs": [],
   "source": [
    "df_clean_airplanes['make']\n",
    "# Company\n",
    "df_clean_airplanes['model']\n",
    "# honda civic\n",
    "\n",
    "# Take 10 most popular makes\n",
    "df_clean_airplanes['make'].value_counts()\n",
    "\n",
    "# Fix the case on the data\n",
    "df_clean_airplanes['make'] = df_clean_airplanes['make'].str.lower()\n",
    "df_clean_airplanes['make'].value_counts().index\n",
    "\n",
    "# Get the first 10\n",
    "# df_clean_airplanes['make'].value_counts().head(10)\n",
    "\n",
    "top_10_filter = df_clean_airplanes['make'].value_counts().head(10).index\n",
    "top_10_filter\n",
    "\n",
    "# df_clean_make_injury = df_clean_airplanes.loc[df_clean_airplanes['make'] == top_10_filter]\\\n",
    "df_clean_airplanes\n",
    "\n",
    "# total_fatal_injuries > 0\n",
    "\n",
    "\n",
    "# What are the areas we could go into\n",
    "\n"
   ]
  },
  {
   "cell_type": "code",
   "execution_count": null,
   "metadata": {},
   "outputs": [],
   "source": [
    "# df_clean_airplanes.to_csv('file_name.csv')\n",
    "!ls"
   ]
  },
  {
   "cell_type": "code",
   "execution_count": null,
   "metadata": {},
   "outputs": [],
   "source": [
    "df_clean_airplanes['total_fatal_injuries']"
   ]
  },
  {
   "cell_type": "code",
   "execution_count": 23,
   "metadata": {},
   "outputs": [],
   "source": [
    "#helicopter\n",
    "df_clean_helicopters = df_clean.loc[df_clean['aircraft_category'] == 'Helicopter']"
   ]
  },
  {
   "cell_type": "code",
   "execution_count": 24,
   "metadata": {},
   "outputs": [],
   "source": [
    "df_clean_helicopters.to_csv('clean_helicopters.csv')"
   ]
  },
  {
   "cell_type": "markdown",
   "metadata": {},
   "source": [
    "# Checking out the make and model\n",
    "\n",
    "See what cleaning needs to be done\n",
    "What does the column contain?"
   ]
  },
  {
   "cell_type": "code",
   "execution_count": null,
   "metadata": {
    "scrolled": true
   },
   "outputs": [],
   "source": [
    "df_clean_airplanes = df_clean_airplanes.reset_index()\n",
    "df_clean_airplanes.drop(columns = ['index'], inplace=True)\n",
    "df_clean_airplanes"
   ]
  },
  {
   "cell_type": "code",
   "execution_count": null,
   "metadata": {},
   "outputs": [],
   "source": [
    "# Take a look at the data pane\n",
    "df_clean_airplanes['make']"
   ]
  },
  {
   "cell_type": "code",
   "execution_count": null,
   "metadata": {
    "scrolled": true
   },
   "outputs": [],
   "source": [
    "# First 10 in the make column\n",
    "df_clean_airplanes['make'].head(10)\n",
    "# What is with those indexes?"
   ]
  },
  {
   "cell_type": "code",
   "execution_count": null,
   "metadata": {},
   "outputs": [],
   "source": [
    "# Indexes are messed up\n",
    "df_clean_airplanes['make'].isna().sum()\n",
    "df_clean_airplanes['model'].isna().sum()"
   ]
  },
  {
   "cell_type": "code",
   "execution_count": null,
   "metadata": {},
   "outputs": [],
   "source": [
    "# Do some data analysis:\n",
    "# 2.3.1  .head() : first 5 rows\n",
    "# 2.3.2  .tail() : last 5 rows\n",
    "# 2.3.3  .info() : information about the columns, including about nulls in those columns\n",
    "# 2.3.4  .describe() : statistics about the data\n",
    "# 2.3.5  .dtypes : data types of each column\n",
    "# 2.3.6  .shape : number of rows and columns\n",
    "\n",
    "df_clean_airplanes['make'].tail(10)\n",
    "df_clean_airplanes['make'].value_counts()"
   ]
  },
  {
   "cell_type": "markdown",
   "metadata": {},
   "source": [
    "## Export"
   ]
  },
  {
   "cell_type": "code",
   "execution_count": null,
   "metadata": {},
   "outputs": [],
   "source": [
    "df_clean_airplanes.to_csv('cleaned.csv')\n",
    "!ls"
   ]
  },
  {
   "cell_type": "markdown",
   "metadata": {},
   "source": [
    "## Now looking at the second data file"
   ]
  },
  {
   "cell_type": "code",
   "execution_count": null,
   "metadata": {},
   "outputs": [],
   "source": [
    "df2 = pd.read_csv(\"./Data/USState_Codes.csv\")\n",
    "df2\n",
    "\n",
    "df2.head(61)"
   ]
  },
  {
   "cell_type": "markdown",
   "metadata": {},
   "source": [
    "### Not sure how useful this is going to be."
   ]
  },
  {
   "cell_type": "markdown",
   "metadata": {},
   "source": [
    "## Columns that might be relevant to answering our question\n",
    "\n",
    "**For the damage**\n",
    "\n",
    "10 - injury severity\\\n",
    "Still not sure what to do with this and how it relates to the other columns\n",
    "11 aircraft damage\\\n",
    "\n",
    "12 Aircraft Category\\\n",
    "This has a lot of different types of flying stuff. We need to filter it by airplanes, because the rest are irrelevant to our data analysis - we are only looking for airplanes.\n",
    "\n",
    "23 - Total Fatal Injuries\\\n",
    "24 - Total Serious Injuries\\\n",
    "25 - Total Minor Injuries\\\n",
    "26 - Total Uninjured\\\n",
    "*Need to figure out if this relates to the injury severity column*\\\n",
    "**Use a filter to check it out**\n",
    "\n",
    "air carrier\\\n",
    "*What does air carrier mean?*\\\n",
    "It's just what company operates it.\n",
    "\n",
    "16 - Amateur Built\\\n",
    "*So was it built by an amateur I guess?\n",
    "\n",
    "Broad phase of flight\\\n",
    "just what phase the plane was in during the accident.\n",
    "\n",
    "\n",
    "**For knowing what plane it is** \n",
    "\n",
    "make\\\n",
    "model\n",
    "\n",
    "*We can't figure out which planes are safe if we don't even know which ones they are*\n",
    "\n",
    "\n",
    "**Might be able to get interesting correlations from:**\n",
    "\n",
    "17 - Number of engines\\\n",
    "18 - Engine type"
   ]
  },
  {
   "cell_type": "markdown",
   "metadata": {},
   "source": [
    "## Columns that probably aren't helpful for answering our question\n",
    "\n",
    "Event.Date\\\n",
    "Location\\\n",
    "Country\\\n",
    "Latitude\\\n",
    "Longitude\\\n",
    "Airport Name\n",
    "\n",
    "Since we're trying to find which airplanes are the safest, knowing this information isn't really relevant."
   ]
  }
 ],
 "metadata": {
  "kernelspec": {
   "display_name": "Python (learn-env)",
   "language": "python",
   "name": "learn-env"
  },
  "language_info": {
   "codemirror_mode": {
    "name": "ipython",
    "version": 3
   },
   "file_extension": ".py",
   "mimetype": "text/x-python",
   "name": "python",
   "nbconvert_exporter": "python",
   "pygments_lexer": "ipython3",
   "version": "3.8.5"
  }
 },
 "nbformat": 4,
 "nbformat_minor": 4
}
