{
 "cells": [
  {
   "cell_type": "markdown",
   "metadata": {},
   "source": [
    "# Compiling Data of Aviations with the Least Amount of Risk"
   ]
  },
  {
   "cell_type": "markdown",
   "metadata": {},
   "source": [
    "*What is being graded (for reference, delete later):*\n",
    "    \n",
    "    - Business Understanding\n",
    "    - Data Understanding\n",
    "    - Data Preparation\n",
    "    - Data Analysis\n",
    "    - Code Quality"
   ]
  },
  {
   "cell_type": "markdown",
   "metadata": {},
   "source": [
    "## Project Goals"
   ]
  },
  {
   "cell_type": "markdown",
   "metadata": {},
   "source": [
    "## Data"
   ]
  },
  {
   "cell_type": "markdown",
   "metadata": {},
   "source": [
    "The data used to reach our conclusions was taken from the following:\n",
    "\n",
    "https://www.kaggle.com/datasets/khsamaha/aviation-accident-database-synopses\n",
    "\n",
    "This is a database from the NTSB (National Transportation Safety Board), which contains accidents and incidents from 1962 up to 2023. The dataset is limited to flights originating from the United States and its territories, and select events over international waters. "
   ]
  },
  {
   "cell_type": "markdown",
   "metadata": {},
   "source": [
    "Start by importing libraries we will need to use."
   ]
  },
  {
   "cell_type": "code",
   "execution_count": null,
   "metadata": {},
   "outputs": [],
   "source": [
    "# First need import statements\n",
    "\n",
    "import numpy as np\n",
    "import pandas as pd\n",
    "import seaborn as sns\n",
    "import matplotlib.pyplot as plt\n",
    "\n",
    "pd.set_option('display.max_colwidth', None)"
   ]
  },
  {
   "cell_type": "markdown",
   "metadata": {},
   "source": [
    "Then let's import the data."
   ]
  },
  {
   "cell_type": "code",
   "execution_count": null,
   "metadata": {},
   "outputs": [],
   "source": [
    "df = pd.read_csv(\"./Data/AviationData.csv\", encoding='latin-1', low_memory = False)"
   ]
  },
  {
   "cell_type": "markdown",
   "metadata": {},
   "source": [
    "## Methods"
   ]
  },
  {
   "cell_type": "markdown",
   "metadata": {},
   "source": [
    "### Exploring The Data"
   ]
  },
  {
   "cell_type": "markdown",
   "metadata": {},
   "source": [
    "Let's take a look at what we've got"
   ]
  },
  {
   "cell_type": "code",
   "execution_count": null,
   "metadata": {},
   "outputs": [],
   "source": [
    "# Take a look\n",
    "\n",
    "print(\"These are the possible inputs for Aircraft Damage\")\n",
    "print(df['Aircraft.damage'].value_counts().index)\n",
    "print()\n",
    "\n",
    "print(\"These are the possible inputs for Injury Severity (already looked at)\")\n",
    "print(df['Injury.Severity'].value_counts().index)\n",
    "print()\n",
    "\n",
    "print(\"These are the possible inputs for Aircraft.Category\")\n",
    "print(df['Aircraft.Category'].value_counts().index)\n",
    "print(df['Aircraft.Category'].value_counts().values)\n",
    "print()\n",
    "\n",
    "print(\"These are the possible inputs for investigation type\")\n",
    "print(df['Investigation.Type'].value_counts().index)\n",
    "print()\n",
    "\n",
    "print(\"These are the possible inputs for Amateur.Built\")\n",
    "print(df['Amateur.Built'].value_counts().index)\n",
    "print(df['Amateur.Built'].value_counts().values)\n",
    "\n",
    "print(\"These are the possible inputs for Report.Status\")\n",
    "print(df['Report.Status'].value_counts().index)\n",
    "print(df['Report.Status'].value_counts().values)\n",
    "\n",
    "print(\"These are the possible inputs for Weather.Condition\")\n",
    "print(df['Weather.Condition'].value_counts().index)\n",
    "print(df['Weather.Condition'].value_counts().values)\n",
    "\n",
    "print(\"These are the possible inputs for Accident.Number\")\n",
    "print(df['Accident.Number'].value_counts().index)\n",
    "print(df['Accident.Number'].value_counts().values)\n",
    "\n",
    "\n",
    "print(\"These are the possible inputs for Airport.Code\")\n",
    "print(df['Airport.Code'].value_counts().index)\n",
    "print(df['Airport.Code'].value_counts().values)\n",
    "\n",
    "print(\"These are the possible inputs for FAR.Description\")\n",
    "print(df['FAR.Description'].value_counts().index)\n",
    "print(df['FAR.Description'].value_counts().values)\n",
    "\n",
    "print()"
   ]
  },
  {
   "cell_type": "markdown",
   "metadata": {},
   "source": [
    "What is the shape of the dataframe?\n",
    "\n",
    "*This is the dimensions of the matrix, in (row, column) format*"
   ]
  },
  {
   "cell_type": "code",
   "execution_count": null,
   "metadata": {},
   "outputs": [],
   "source": [
    "df.shape"
   ]
  },
  {
   "cell_type": "markdown",
   "metadata": {},
   "source": [
    "Now, let's look at the features (columns) of the data."
   ]
  },
  {
   "cell_type": "code",
   "execution_count": null,
   "metadata": {},
   "outputs": [],
   "source": [
    "df.info()"
   ]
  },
  {
   "cell_type": "markdown",
   "metadata": {},
   "source": [
    "Poke around a bit more"
   ]
  },
  {
   "cell_type": "code",
   "execution_count": null,
   "metadata": {},
   "outputs": [],
   "source": [
    "# Take a look at the first 5\n",
    "print(\"Take a look at the first 5\")\n",
    "print(df.head())\n",
    "print()\n",
    "\n",
    "print(\"Take a look at some statistics\")\n",
    "print(df.describe())\n",
    "print()"
   ]
  },
  {
   "cell_type": "markdown",
   "metadata": {},
   "source": [
    "Let's take a look at how many NaN's there are:"
   ]
  },
  {
   "cell_type": "code",
   "execution_count": null,
   "metadata": {},
   "outputs": [],
   "source": [
    "# Now let's check out how many NaN's there are\n",
    "\n",
    "df.isna().sum()"
   ]
  },
  {
   "cell_type": "markdown",
   "metadata": {},
   "source": [
    "We will have to clean up some null values, change some names, and convert a datetime for our exploratory data analysis (EDA)"
   ]
  },
  {
   "cell_type": "markdown",
   "metadata": {},
   "source": [
    "### Cleaning The Data"
   ]
  },
  {
   "cell_type": "markdown",
   "metadata": {},
   "source": [
    "### Splitting The Data"
   ]
  },
  {
   "cell_type": "markdown",
   "metadata": {},
   "source": [
    "## Results"
   ]
  }
 ],
 "metadata": {
  "kernelspec": {
   "display_name": "Python (learn-env)",
   "language": "python",
   "name": "learn-env"
  },
  "language_info": {
   "codemirror_mode": {
    "name": "ipython",
    "version": 3
   },
   "file_extension": ".py",
   "mimetype": "text/x-python",
   "name": "python",
   "nbconvert_exporter": "python",
   "pygments_lexer": "ipython3",
   "version": "3.8.5"
  }
 },
 "nbformat": 4,
 "nbformat_minor": 4
}
