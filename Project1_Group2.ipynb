{
 "cells": [
  {
   "cell_type": "markdown",
   "metadata": {},
   "source": [
    "# Compiling Data on Aviation with the Least Amount of Risk"
   ]
  },
  {
   "cell_type": "markdown",
   "metadata": {},
   "source": [
    "*What is being graded (for reference, delete later):*\n",
    "    \n",
    "    - Business Understanding\n",
    "    - Data Understanding\n",
    "    - Data Preparation\n",
    "    - Data Analysis\n",
    "    - Code Quality"
   ]
  },
  {
   "cell_type": "markdown",
   "metadata": {},
   "source": [
    "# Project Goals"
   ]
  },
  {
   "cell_type": "markdown",
   "metadata": {},
   "source": [
    "Our company is interested in purchasing and operating aircrafts in order to expand and diversify our portfolio. Our goal is to determine which aircrafts have the lowest risk for our new business endeavors. We decided that these business endeavors can be broken up into three categories:\n",
    "* Passenger transportation\n",
    "* Cargo transportation\n",
    "* Private enterprises\n",
    "\n",
    "**Our main goal for this project is to recommend an aircraft with the lowest risk for each of these business endeavors.**"
   ]
  },
  {
   "cell_type": "markdown",
   "metadata": {},
   "source": [
    "# Data"
   ]
  },
  {
   "cell_type": "markdown",
   "metadata": {},
   "source": [
    "# Methods"
   ]
  },
  {
   "cell_type": "markdown",
   "metadata": {},
   "source": [
    "## Exploring The Data"
   ]
  },
  {
   "cell_type": "markdown",
   "metadata": {},
   "source": [
    "## Cleaning The Data"
   ]
  },
  {
   "cell_type": "markdown",
   "metadata": {},
   "source": [
    "### Handling the NaN's for the Make and Model Columns\n",
    "\n",
    "We are going to drop the rows for the missing make and model values\n",
    "This is because we can't get any useful data from these if we don't know the make and the model!"
   ]
  },
  {
   "cell_type": "code",
   "execution_count": null,
   "metadata": {},
   "outputs": [],
   "source": [
    "# First make a copy of the original data\n",
    "df_clean = df.copy()\n",
    "df_clean"
   ]
  },
  {
   "cell_type": "markdown",
   "metadata": {},
   "source": [
    "### Drop the Missing Values from the Make and Model columns"
   ]
  },
  {
   "cell_type": "code",
   "execution_count": null,
   "metadata": {},
   "outputs": [],
   "source": [
    "df_clean = df_clean.dropna(subset=['Make', 'Model'])"
   ]
  },
  {
   "cell_type": "markdown",
   "metadata": {},
   "source": [
    "Take a look and see if it worked.\n"
   ]
  },
  {
   "cell_type": "code",
   "execution_count": null,
   "metadata": {},
   "outputs": [],
   "source": [
    "df_clean.isna().sum()"
   ]
  },
  {
   "cell_type": "markdown",
   "metadata": {},
   "source": [
    "### Let's also Convert the Name of the Columns to Something Cleaner"
   ]
  },
  {
   "cell_type": "code",
   "execution_count": null,
   "metadata": {},
   "outputs": [],
   "source": [
    "df_clean.columns = df_clean.columns.str.strip().str.lower().str.replace('.', '_')"
   ]
  },
  {
   "cell_type": "markdown",
   "metadata": {},
   "source": [
    "### Comparing the two Data Frames"
   ]
  },
  {
   "cell_type": "code",
   "execution_count": null,
   "metadata": {},
   "outputs": [],
   "source": [
    "print(\"This is the original DataFrame:\")\n",
    "print()\n",
    "print(df.info())\n",
    "print()\n",
    "print(\"This is the cleaned DataFrame:\")\n",
    "print()\n",
    "print(df_clean.info())\n",
    "print()"
   ]
  },
  {
   "cell_type": "markdown",
   "metadata": {},
   "source": [
    "### Handling the Four Injury Rows\n",
    "Taking the four rows and filling the Nans as 0 because therecan only be one type of injury"
   ]
  },
  {
   "cell_type": "code",
   "execution_count": null,
   "metadata": {},
   "outputs": [],
   "source": [
    "df_clean['total_fatal_injuries'].fillna(0, inplace=True)\n",
    "df_clean['total_serious_injuries'].fillna(0, inplace=True)\n",
    "df_clean['total_minor_injuries'].fillna(0, inplace=True)\n",
    "df_clean['total_uninjured'].fillna(0, inplace=True)"
   ]
  },
  {
   "cell_type": "markdown",
   "metadata": {},
   "source": [
    "Check and make sure the transforemation worked"
   ]
  },
  {
   "cell_type": "code",
   "execution_count": null,
   "metadata": {},
   "outputs": [],
   "source": [
    "print(\"Checking the total fatal injuries column\")\n",
    "print(df['Total.Fatal.Injuries'].isna().sum())\n",
    "print(df_clean['total_fatal_injuries'].isna().sum())\n",
    "\n",
    "print(\"Checking the total serious injuries column\")\n",
    "print(df['Total.Serious.Injuries'].isna().sum())\n",
    "print(df_clean['total_serious_injuries'].isna().sum())\n",
    "\n",
    "print(\"Checking the total Minor injuries column\")\n",
    "print(df['Total.Minor.Injuries'].isna().sum())\n",
    "print(df_clean['total_minor_injuries'].isna().sum())\n",
    "\n",
    "print(\"Checking the total Uninjured column\")\n",
    "print(df['Total.Uninjured'].isna().sum())\n",
    "print(df_clean['total_uninjured'].isna().sum())\n",
    "\n",
    "df_clean['total_uninjured']"
   ]
  },
  {
   "cell_type": "markdown",
   "metadata": {},
   "source": [
    "### Convert datetime from a string to a datetime object"
   ]
  },
  {
   "cell_type": "code",
   "execution_count": null,
   "metadata": {},
   "outputs": [],
   "source": [
    "df_clean.event_date = pd.to_datetime(df_clean[\"event_date\"], format=\"%Y-%m-%d\")"
   ]
  },
  {
   "cell_type": "markdown",
   "metadata": {},
   "source": [
    "Check and make sure that it worked"
   ]
  },
  {
   "cell_type": "code",
   "execution_count": null,
   "metadata": {},
   "outputs": [],
   "source": [
    "df_clean.event_date"
   ]
  },
  {
   "cell_type": "markdown",
   "metadata": {},
   "source": [
    "Now the values have been converted to a datetime object."
   ]
  },
  {
   "cell_type": "code",
   "execution_count": null,
   "metadata": {},
   "outputs": [],
   "source": [
    "df_clean.info()"
   ]
  },
  {
   "cell_type": "markdown",
   "metadata": {},
   "source": [
    "### Cleaning The Engines Column\n",
    "\n",
    "We are going to filter out all the NaN's from the engines column\n"
   ]
  },
  {
   "cell_type": "code",
   "execution_count": null,
   "metadata": {},
   "outputs": [],
   "source": [
    "# Looking at the entries with nulls\n",
    "df_clean[df_clean['number_of_engines'].isna()]"
   ]
  },
  {
   "cell_type": "code",
   "execution_count": null,
   "metadata": {},
   "outputs": [],
   "source": [
    "# Drop the null values in number_of_engines\n",
    "# This is because we need to know the number of engines for the plane model\n",
    "df_clean.dropna(subset=['number_of_engines'], inplace=True)\n",
    "\n",
    "df_clean['number_of_engines'].isna().sum()"
   ]
  },
  {
   "cell_type": "markdown",
   "metadata": {},
   "source": [
    "### Checking out the make and model \n",
    "See what cleaning needs to be done.\n",
    "Need to change cases"
   ]
  },
  {
   "cell_type": "code",
   "execution_count": null,
   "metadata": {},
   "outputs": [],
   "source": [
    "df_clean['make'] = df_clean['make'].str.lower()"
   ]
  },
  {
   "cell_type": "markdown",
   "metadata": {},
   "source": [
    "### Trying to fix the names of the make column "
   ]
  },
  {
   "cell_type": "code",
   "execution_count": null,
   "metadata": {},
   "outputs": [],
   "source": [
    "df_clean['make'] = df_clean['make'].str.split().str[0]"
   ]
  },
  {
   "cell_type": "markdown",
   "metadata": {},
   "source": [
    "### Combine the injuries columns into a total injuries column "
   ]
  },
  {
   "cell_type": "code",
   "execution_count": null,
   "metadata": {},
   "outputs": [],
   "source": [
    "df_clean['total_injuries'] = df_clean['total_fatal_injuries'] + df_clean['total_serious_injuries'] + df_clean['total_minor_injuries']"
   ]
  },
  {
   "cell_type": "code",
   "execution_count": null,
   "metadata": {},
   "outputs": [],
   "source": [
    "df_clean['total_injuries']"
   ]
  },
  {
   "cell_type": "markdown",
   "metadata": {},
   "source": [
    "### Looking at broad phase of flight\n",
    "\n",
    "There are nulls and unknowns. Change the nulls to unknown."
   ]
  },
  {
   "cell_type": "code",
   "execution_count": null,
   "metadata": {},
   "outputs": [],
   "source": [
    "df_clean['broad_phase_of_flight'].isna().sum()"
   ]
  },
  {
   "cell_type": "code",
   "execution_count": null,
   "metadata": {},
   "outputs": [],
   "source": [
    "df_clean['broad_phase_of_flight'].value_counts()"
   ]
  },
  {
   "cell_type": "code",
   "execution_count": null,
   "metadata": {},
   "outputs": [],
   "source": [
    "df_clean['broad_phase_of_flight'].str.contains('Unknown').sum()"
   ]
  },
  {
   "cell_type": "markdown",
   "metadata": {},
   "source": [
    "### So there are 21991 nulls, and 542 unknowns.\n",
    "\n",
    "We are going to change the nulls to unknowns."
   ]
  },
  {
   "cell_type": "code",
   "execution_count": null,
   "metadata": {},
   "outputs": [],
   "source": [
    "# This code takes the list of columns and what to fill the null values with \n",
    "df_clean['broad_phase_of_flight'] = df_clean['broad_phase_of_flight'].fillna('Unknown')"
   ]
  },
  {
   "cell_type": "code",
   "execution_count": null,
   "metadata": {},
   "outputs": [],
   "source": [
    "df_clean['broad_phase_of_flight'].value_counts()"
   ]
  },
  {
   "cell_type": "markdown",
   "metadata": {},
   "source": [
    "Worked."
   ]
  },
  {
   "cell_type": "markdown",
   "metadata": {},
   "source": [
    "### Looking into aircraft damage and doing the same thing"
   ]
  },
  {
   "cell_type": "code",
   "execution_count": null,
   "metadata": {},
   "outputs": [],
   "source": [
    "df_clean['aircraft_damage'].isna().sum()"
   ]
  },
  {
   "cell_type": "code",
   "execution_count": null,
   "metadata": {},
   "outputs": [],
   "source": [
    "df_clean['aircraft_damage'].value_counts()"
   ]
  },
  {
   "cell_type": "markdown",
   "metadata": {},
   "source": [
    "There are a total of 61 unknowns and 2021 nulls.\n",
    "\n",
    "Let's change those nulls to unknowns."
   ]
  },
  {
   "cell_type": "code",
   "execution_count": null,
   "metadata": {},
   "outputs": [],
   "source": [
    "df_clean['aircraft_damage'] = df_clean['aircraft_damage'].fillna('Unknown')"
   ]
  },
  {
   "cell_type": "code",
   "execution_count": null,
   "metadata": {},
   "outputs": [],
   "source": [
    "df_clean['aircraft_damage'].isna().sum()"
   ]
  },
  {
   "cell_type": "markdown",
   "metadata": {},
   "source": [
    "## Splitting The Data"
   ]
  },
  {
   "cell_type": "markdown",
   "metadata": {},
   "source": [
    "Now that our data is looking pretty clean, let's split our data into relevant categories in order to solve our main business problem. These categories are airplanes and helicopters.\n",
    "\n"
   ]
  },
  {
   "cell_type": "markdown",
   "metadata": {},
   "source": [
    "### We are going to drop \n",
    "the null and unknown values from engine_type for the dataframe because it is relevant to the safety"
   ]
  },
  {
   "cell_type": "markdown",
   "metadata": {},
   "source": [
    "#### Dropping Null Values From engine_type "
   ]
  },
  {
   "cell_type": "code",
   "execution_count": null,
   "metadata": {},
   "outputs": [],
   "source": [
    "df_clean.dropna(subset=['engine_type'], inplace=True)  \n",
    "df_clean['e## Dropping Null Values From engine_type *ngine_type'].isna().sum()"
   ]
  },
  {
   "cell_type": "markdown",
   "metadata": {},
   "source": [
    "#### Dropping unknown values from engine_type "
   ]
  },
  {
   "cell_type": "code",
   "execution_count": null,
   "metadata": {},
   "outputs": [],
   "source": [
    "df_clean.drop(df_clean[(df_clean['engine_type'] == 'unknown')].index, inplace=True)\n",
    "df_clean"
   ]
  },
  {
   "cell_type": "markdown",
   "metadata": {},
   "source": [
    "#### Filtering down the engines \n",
    "\n",
    "Engines we don't want:\n",
    "Reciprocating Engines"
   ]
  },
  {
   "cell_type": "code",
   "execution_count": null,
   "metadata": {},
   "outputs": [],
   "source": [
    "df_clean_airplanes['engine_type'].value_counts().index"
   ]
  },
  {
   "cell_type": "markdown",
   "metadata": {},
   "source": [
    "#### How to handle the Reciprocating engines? \n",
    "Remove the rows with reciprocating engines."
   ]
  },
  {
   "cell_type": "code",
   "execution_count": null,
   "metadata": {},
   "outputs": [],
   "source": [
    "# This code works by:\n",
    "# Calling the drop() method and passing it the filtered rows we want to drop\n",
    "\n",
    "# I want to drop the rows of df_clean_airplanes where the engine_type is Reciprocating\n",
    "df_clean_airplanes.drop( df_clean_airplanes[df_clean_airplanes['engine_type'] == 'Reciprocating'].index , inplace=True)"
   ]
  },
  {
   "cell_type": "code",
   "execution_count": null,
   "metadata": {},
   "outputs": [],
   "source": []
  },
  {
   "cell_type": "markdown",
   "metadata": {},
   "source": [
    "## Splitting The Data"
   ]
  },
  {
   "cell_type": "markdown",
   "metadata": {},
   "source": [
    "# Results"
   ]
  },
  {
   "cell_type": "markdown",
   "metadata": {},
   "source": [
    "#### Question Statement:\n",
    "Which aircrafts are the lowest risk?\n",
    "\n",
    "#### What are our three concrete business recommendations\n",
    "After anaylising our data we are able to come to the results that;\n",
    "\n",
    "#### Passenger Transportation"
   ]
  },
  {
   "cell_type": "markdown",
   "metadata": {},
   "source": [
    "- The Boeing 727 model is ideal for passenger transportaion because out of all 2407 plane crashes only 345 of them were a Boeing make \n",
    "\n",
    "- Out of all 345 Boeing crashes, only 16 of them were with the Boeing 727 model the only Boeing make with three engines.\n",
    "\n",
    "- Out of all 16 Boeing crashes only 3 had any injuries related none of them being fatal. \n",
    "\n",
    "- We were able to reach this conclusion by analyzing the data set and filtering it down o specific compenents we were interested in looking at and then comparing the data sets with information like total crashes for makes or total crashes for a specific number of engined plane."
   ]
  },
  {
   "cell_type": "markdown",
   "metadata": {},
   "source": [
    "#### Cargo Transportation"
   ]
  },
  {
   "cell_type": "markdown",
   "metadata": {},
   "source": [
    "- The Boeing 747 model is ideal for cargo transportation.\n",
    "- We came to this conclusion by making a ratio of number of accidents to number of planes.\n",
    "- When comparing the aircraft damage severity between the Boeings the 737 is smaller than the 747. \n",
    "- The Boeing 747 has 107 ton of capacity.\n",
    "- The nose of the 747 opens (really cool).\n",
    "- The 747 has a wide body which means more space. \n",
    "- The 747 also has 4 engines making it much safer.\n"
   ]
  },
  {
   "cell_type": "markdown",
   "metadata": {},
   "source": [
    "#### Private Enterprises"
   ]
  },
  {
   "cell_type": "markdown",
   "metadata": {},
   "source": [
    "- The Sikorsky S-92A is ideal for private enterprises\n",
    "- Since certain makes and models  have more crash occurrences than others\n",
    "- Used the mean to show the ratio of uninjured passengers to the number of accidents.\n"
   ]
  },
  {
   "cell_type": "code",
   "execution_count": null,
   "metadata": {},
   "outputs": [],
   "source": []
  }
 ],
 "metadata": {
  "kernelspec": {
   "display_name": "Python (learn-env)",
   "language": "python",
   "name": "learn-env"
  },
  "language_info": {
   "codemirror_mode": {
    "name": "ipython",
    "version": 3
   },
   "file_extension": ".py",
   "mimetype": "text/x-python",
   "name": "python",
   "nbconvert_exporter": "python",
   "pygments_lexer": "ipython3",
   "version": "3.8.5"
  }
 },
 "nbformat": 4,
 "nbformat_minor": 4
}
